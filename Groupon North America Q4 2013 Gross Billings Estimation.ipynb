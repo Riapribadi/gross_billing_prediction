{
 "cells": [
  {
   "cell_type": "code",
   "execution_count": 81,
   "id": "109bb79c",
   "metadata": {},
   "outputs": [],
   "source": [
    "import pandas as pd\n",
    "import numpy as np\n",
    "import seaborn as sb\n",
    "import matplotlib.pyplot as plt\n",
    "colors = plt.rcParams['axes.prop_cycle'].by_key()['color']"
   ]
  },
  {
   "cell_type": "markdown",
   "id": "a10ad6e0",
   "metadata": {},
   "source": [
    "# Loading Data"
   ]
  },
  {
   "cell_type": "markdown",
   "id": "4238cd90",
   "metadata": {},
   "source": [
    "### Load Q4 2013 Raw Data Sheet"
   ]
  },
  {
   "cell_type": "code",
   "execution_count": 2,
   "id": "e95f4ceb",
   "metadata": {},
   "outputs": [
    {
     "data": {
      "text/html": [
       "<div>\n",
       "<style scoped>\n",
       "    .dataframe tbody tr th:only-of-type {\n",
       "        vertical-align: middle;\n",
       "    }\n",
       "\n",
       "    .dataframe tbody tr th {\n",
       "        vertical-align: top;\n",
       "    }\n",
       "\n",
       "    .dataframe thead th {\n",
       "        text-align: right;\n",
       "    }\n",
       "</style>\n",
       "<table border=\"1\" class=\"dataframe\">\n",
       "  <thead>\n",
       "    <tr style=\"text-align: right;\">\n",
       "      <th></th>\n",
       "      <th>Deal ID</th>\n",
       "      <th>Units Sold</th>\n",
       "      <th>Gross Billings</th>\n",
       "      <th>Start Date</th>\n",
       "      <th>Deal URL</th>\n",
       "      <th>Segment</th>\n",
       "    </tr>\n",
       "  </thead>\n",
       "  <tbody>\n",
       "    <tr>\n",
       "      <th>0</th>\n",
       "      <td>gr-millevois-tire-service-center</td>\n",
       "      <td>0.000</td>\n",
       "      <td>0.00000</td>\n",
       "      <td>2011-11-21</td>\n",
       "      <td>http://www.groupon.com/deals/gr-millevois-tire...</td>\n",
       "      <td>Local</td>\n",
       "    </tr>\n",
       "    <tr>\n",
       "      <th>1</th>\n",
       "      <td>gr-manakeesh-cafe-bakery</td>\n",
       "      <td>0.000</td>\n",
       "      <td>0.00000</td>\n",
       "      <td>2011-11-21</td>\n",
       "      <td>http://www.groupon.com/deals/gr-manakeesh-cafe...</td>\n",
       "      <td>Local</td>\n",
       "    </tr>\n",
       "    <tr>\n",
       "      <th>2</th>\n",
       "      <td>gr-phoenix-salon-and-spa</td>\n",
       "      <td>0.000</td>\n",
       "      <td>0.00000</td>\n",
       "      <td>2011-11-21</td>\n",
       "      <td>http://www.groupon.com/deals/gr-phoenix-salon-...</td>\n",
       "      <td>Local</td>\n",
       "    </tr>\n",
       "    <tr>\n",
       "      <th>3</th>\n",
       "      <td>gr-hands-in-motion</td>\n",
       "      <td>0.000</td>\n",
       "      <td>0.00000</td>\n",
       "      <td>2011-11-21</td>\n",
       "      <td>http://www.groupon.com/deals/gr-hands-in-motion</td>\n",
       "      <td>Local</td>\n",
       "    </tr>\n",
       "    <tr>\n",
       "      <th>4</th>\n",
       "      <td>dc-fd2-bartending-college-allentown-reading</td>\n",
       "      <td>86.800</td>\n",
       "      <td>4253.20000</td>\n",
       "      <td>2012-06-06</td>\n",
       "      <td>http://www.groupon.com/deals/dc-fd2-bartending...</td>\n",
       "      <td>Local</td>\n",
       "    </tr>\n",
       "    <tr>\n",
       "      <th>...</th>\n",
       "      <td>...</td>\n",
       "      <td>...</td>\n",
       "      <td>...</td>\n",
       "      <td>...</td>\n",
       "      <td>...</td>\n",
       "      <td>...</td>\n",
       "    </tr>\n",
       "    <tr>\n",
       "      <th>138529</th>\n",
       "      <td>gg-zuzuzen-performance-leggings-1</td>\n",
       "      <td>433.136</td>\n",
       "      <td>10824.06864</td>\n",
       "      <td>2013-12-11</td>\n",
       "      <td>http://www.groupon.com/deals/gg-zuzuzen-perfor...</td>\n",
       "      <td>Goods</td>\n",
       "    </tr>\n",
       "    <tr>\n",
       "      <th>138530</th>\n",
       "      <td>gg-zuzuzen-performance-tight-fit-two-tone-yoga...</td>\n",
       "      <td>239.752</td>\n",
       "      <td>5511.89848</td>\n",
       "      <td>2013-12-24</td>\n",
       "      <td>http://www.groupon.com/deals/gg-zuzuzen-perfor...</td>\n",
       "      <td>Goods</td>\n",
       "    </tr>\n",
       "    <tr>\n",
       "      <th>138531</th>\n",
       "      <td>gg-zuzuzen-tight-fit-yoga-pant-tank</td>\n",
       "      <td>290.536</td>\n",
       "      <td>5131.06264</td>\n",
       "      <td>2013-12-21</td>\n",
       "      <td>http://www.groupon.com/deals/gg-zuzuzen-tight-...</td>\n",
       "      <td>Goods</td>\n",
       "    </tr>\n",
       "    <tr>\n",
       "      <th>138532</th>\n",
       "      <td>dr-z-med-spa-philadelphia</td>\n",
       "      <td>1.450</td>\n",
       "      <td>1303.55000</td>\n",
       "      <td>2013-12-10</td>\n",
       "      <td>http://www.groupon.com/deals/dr-z-med-spa-phil...</td>\n",
       "      <td>Local</td>\n",
       "    </tr>\n",
       "    <tr>\n",
       "      <th>138533</th>\n",
       "      <td>zzfoto</td>\n",
       "      <td>0.000</td>\n",
       "      <td>0.00000</td>\n",
       "      <td>2013-12-26</td>\n",
       "      <td>http://www.groupon.com/deals/zzfoto</td>\n",
       "      <td>Local</td>\n",
       "    </tr>\n",
       "  </tbody>\n",
       "</table>\n",
       "<p>138534 rows × 6 columns</p>\n",
       "</div>"
      ],
      "text/plain": [
       "                                                  Deal ID  Units Sold  \\\n",
       "0                        gr-millevois-tire-service-center       0.000   \n",
       "1                                gr-manakeesh-cafe-bakery       0.000   \n",
       "2                                gr-phoenix-salon-and-spa       0.000   \n",
       "3                                      gr-hands-in-motion       0.000   \n",
       "4             dc-fd2-bartending-college-allentown-reading      86.800   \n",
       "...                                                   ...         ...   \n",
       "138529                  gg-zuzuzen-performance-leggings-1     433.136   \n",
       "138530  gg-zuzuzen-performance-tight-fit-two-tone-yoga...     239.752   \n",
       "138531                gg-zuzuzen-tight-fit-yoga-pant-tank     290.536   \n",
       "138532                          dr-z-med-spa-philadelphia       1.450   \n",
       "138533                                             zzfoto       0.000   \n",
       "\n",
       "        Gross Billings Start Date  \\\n",
       "0              0.00000 2011-11-21   \n",
       "1              0.00000 2011-11-21   \n",
       "2              0.00000 2011-11-21   \n",
       "3              0.00000 2011-11-21   \n",
       "4           4253.20000 2012-06-06   \n",
       "...                ...        ...   \n",
       "138529     10824.06864 2013-12-11   \n",
       "138530      5511.89848 2013-12-24   \n",
       "138531      5131.06264 2013-12-21   \n",
       "138532      1303.55000 2013-12-10   \n",
       "138533         0.00000 2013-12-26   \n",
       "\n",
       "                                                 Deal URL Segment  \n",
       "0       http://www.groupon.com/deals/gr-millevois-tire...   Local  \n",
       "1       http://www.groupon.com/deals/gr-manakeesh-cafe...   Local  \n",
       "2       http://www.groupon.com/deals/gr-phoenix-salon-...   Local  \n",
       "3         http://www.groupon.com/deals/gr-hands-in-motion   Local  \n",
       "4       http://www.groupon.com/deals/dc-fd2-bartending...   Local  \n",
       "...                                                   ...     ...  \n",
       "138529  http://www.groupon.com/deals/gg-zuzuzen-perfor...   Goods  \n",
       "138530  http://www.groupon.com/deals/gg-zuzuzen-perfor...   Goods  \n",
       "138531  http://www.groupon.com/deals/gg-zuzuzen-tight-...   Goods  \n",
       "138532  http://www.groupon.com/deals/dr-z-med-spa-phil...   Local  \n",
       "138533                http://www.groupon.com/deals/zzfoto   Local  \n",
       "\n",
       "[138534 rows x 6 columns]"
      ]
     },
     "execution_count": 2,
     "metadata": {},
     "output_type": "execute_result"
    }
   ],
   "source": [
    "df = pd.read_excel(r'Groupon_North_America_Data_Q4_2013_XLSX.xlsx')\n",
    "df"
   ]
  },
  {
   "cell_type": "code",
   "execution_count": 3,
   "id": "1a113446",
   "metadata": {},
   "outputs": [],
   "source": [
    "df0 = df.copy()  # create a copy of the original data for comparison."
   ]
  },
  {
   "cell_type": "markdown",
   "id": "be8ee560",
   "metadata": {},
   "source": [
    "### Load Historical Data Sheet"
   ]
  },
  {
   "cell_type": "code",
   "execution_count": 4,
   "id": "6fc8c47f",
   "metadata": {},
   "outputs": [
    {
     "data": {
      "text/html": [
       "<div>\n",
       "<style scoped>\n",
       "    .dataframe tbody tr th:only-of-type {\n",
       "        vertical-align: middle;\n",
       "    }\n",
       "\n",
       "    .dataframe tbody tr th {\n",
       "        vertical-align: top;\n",
       "    }\n",
       "\n",
       "    .dataframe thead th {\n",
       "        text-align: right;\n",
       "    }\n",
       "</style>\n",
       "<table border=\"1\" class=\"dataframe\">\n",
       "  <thead>\n",
       "    <tr style=\"text-align: right;\">\n",
       "      <th></th>\n",
       "      <th>YipitData Historical Estimates</th>\n",
       "      <th>Q3 2012</th>\n",
       "      <th>Unnamed: 2</th>\n",
       "      <th>Unnamed: 3</th>\n",
       "      <th>Q4 2012</th>\n",
       "      <th>Unnamed: 5</th>\n",
       "      <th>Unnamed: 6</th>\n",
       "      <th>Q1 2013</th>\n",
       "      <th>Unnamed: 8</th>\n",
       "      <th>Unnamed: 9</th>\n",
       "      <th>Q2 2013</th>\n",
       "      <th>Unnamed: 11</th>\n",
       "      <th>Unnamed: 12</th>\n",
       "      <th>Q3 2013</th>\n",
       "      <th>Unnamed: 14</th>\n",
       "      <th>Unnamed: 15</th>\n",
       "    </tr>\n",
       "  </thead>\n",
       "  <tbody>\n",
       "    <tr>\n",
       "      <th>0</th>\n",
       "      <td>NaN</td>\n",
       "      <td>NaN</td>\n",
       "      <td>NaN</td>\n",
       "      <td>NaN</td>\n",
       "      <td>NaN</td>\n",
       "      <td>NaN</td>\n",
       "      <td>NaN</td>\n",
       "      <td>NaN</td>\n",
       "      <td>NaN</td>\n",
       "      <td>NaN</td>\n",
       "      <td>NaN</td>\n",
       "      <td>NaN</td>\n",
       "      <td>NaN</td>\n",
       "      <td>NaN</td>\n",
       "      <td>NaN</td>\n",
       "      <td>NaN</td>\n",
       "    </tr>\n",
       "    <tr>\n",
       "      <th>1</th>\n",
       "      <td>NaN</td>\n",
       "      <td>2012-07-01 00:00:00</td>\n",
       "      <td>2012-08-01 00:00:00</td>\n",
       "      <td>2012-09-01 00:00:00</td>\n",
       "      <td>2012-10-01 00:00:00</td>\n",
       "      <td>2012-11-01 00:00:00</td>\n",
       "      <td>2012-12-01 00:00:00</td>\n",
       "      <td>2013-01-01 00:00:00</td>\n",
       "      <td>2013-02-01 00:00:00</td>\n",
       "      <td>2013-03-01 00:00:00</td>\n",
       "      <td>2013-04-01 00:00:00</td>\n",
       "      <td>2013-05-01 00:00:00</td>\n",
       "      <td>2013-06-01 00:00:00</td>\n",
       "      <td>2013-07-01 00:00:00</td>\n",
       "      <td>2013-08-01 00:00:00</td>\n",
       "      <td>2013-09-01 00:00:00</td>\n",
       "    </tr>\n",
       "    <tr>\n",
       "      <th>2</th>\n",
       "      <td>Gross Billings ($ million)</td>\n",
       "      <td>NaN</td>\n",
       "      <td>NaN</td>\n",
       "      <td>NaN</td>\n",
       "      <td>NaN</td>\n",
       "      <td>NaN</td>\n",
       "      <td>NaN</td>\n",
       "      <td>NaN</td>\n",
       "      <td>NaN</td>\n",
       "      <td>NaN</td>\n",
       "      <td>NaN</td>\n",
       "      <td>NaN</td>\n",
       "      <td>NaN</td>\n",
       "      <td>NaN</td>\n",
       "      <td>NaN</td>\n",
       "      <td>NaN</td>\n",
       "    </tr>\n",
       "    <tr>\n",
       "      <th>3</th>\n",
       "      <td>Local</td>\n",
       "      <td>133.414773</td>\n",
       "      <td>137.321693</td>\n",
       "      <td>138.2</td>\n",
       "      <td>126.8</td>\n",
       "      <td>139.9</td>\n",
       "      <td>164.4</td>\n",
       "      <td>162.7</td>\n",
       "      <td>143</td>\n",
       "      <td>163.4</td>\n",
       "      <td>143.8</td>\n",
       "      <td>162.2</td>\n",
       "      <td>153.2</td>\n",
       "      <td>139.951254</td>\n",
       "      <td>136.66794</td>\n",
       "      <td>133.79504</td>\n",
       "    </tr>\n",
       "    <tr>\n",
       "      <th>4</th>\n",
       "      <td>Goods</td>\n",
       "      <td>26.733909</td>\n",
       "      <td>33.008915</td>\n",
       "      <td>50.8</td>\n",
       "      <td>64.3</td>\n",
       "      <td>85.1</td>\n",
       "      <td>64.3</td>\n",
       "      <td>47.3</td>\n",
       "      <td>46</td>\n",
       "      <td>51</td>\n",
       "      <td>62.8</td>\n",
       "      <td>71.7</td>\n",
       "      <td>67.1</td>\n",
       "      <td>61.279984</td>\n",
       "      <td>67.024982</td>\n",
       "      <td>63.194983</td>\n",
       "    </tr>\n",
       "    <tr>\n",
       "      <th>5</th>\n",
       "      <td>Travel</td>\n",
       "      <td>16.770766</td>\n",
       "      <td>15.436645</td>\n",
       "      <td>14.3</td>\n",
       "      <td>16.6</td>\n",
       "      <td>14.6</td>\n",
       "      <td>18.5</td>\n",
       "      <td>22.6</td>\n",
       "      <td>13.6</td>\n",
       "      <td>20.3</td>\n",
       "      <td>18.9</td>\n",
       "      <td>22.9</td>\n",
       "      <td>22.8</td>\n",
       "      <td>22.404492</td>\n",
       "      <td>22.738887</td>\n",
       "      <td>21.735701</td>\n",
       "    </tr>\n",
       "    <tr>\n",
       "      <th>6</th>\n",
       "      <td>Total</td>\n",
       "      <td>176.919448</td>\n",
       "      <td>185.767253</td>\n",
       "      <td>203.3</td>\n",
       "      <td>207.7</td>\n",
       "      <td>239.6</td>\n",
       "      <td>247.2</td>\n",
       "      <td>232.6</td>\n",
       "      <td>202.6</td>\n",
       "      <td>234.7</td>\n",
       "      <td>225.5</td>\n",
       "      <td>256.8</td>\n",
       "      <td>243.1</td>\n",
       "      <td>223.635729</td>\n",
       "      <td>226.431809</td>\n",
       "      <td>218.725724</td>\n",
       "    </tr>\n",
       "    <tr>\n",
       "      <th>7</th>\n",
       "      <td>NaN</td>\n",
       "      <td>NaN</td>\n",
       "      <td>NaN</td>\n",
       "      <td>NaN</td>\n",
       "      <td>NaN</td>\n",
       "      <td>NaN</td>\n",
       "      <td>NaN</td>\n",
       "      <td>NaN</td>\n",
       "      <td>NaN</td>\n",
       "      <td>NaN</td>\n",
       "      <td>NaN</td>\n",
       "      <td>NaN</td>\n",
       "      <td>NaN</td>\n",
       "      <td>NaN</td>\n",
       "      <td>NaN</td>\n",
       "      <td>NaN</td>\n",
       "    </tr>\n",
       "    <tr>\n",
       "      <th>8</th>\n",
       "      <td>NaN</td>\n",
       "      <td>Q3 2012</td>\n",
       "      <td>NaN</td>\n",
       "      <td>NaN</td>\n",
       "      <td>Q4 2012</td>\n",
       "      <td>NaN</td>\n",
       "      <td>NaN</td>\n",
       "      <td>Q1 2013</td>\n",
       "      <td>NaN</td>\n",
       "      <td>NaN</td>\n",
       "      <td>Q2 2013</td>\n",
       "      <td>NaN</td>\n",
       "      <td>NaN</td>\n",
       "      <td>Q3 2013</td>\n",
       "      <td>NaN</td>\n",
       "      <td>NaN</td>\n",
       "    </tr>\n",
       "    <tr>\n",
       "      <th>9</th>\n",
       "      <td>NaN</td>\n",
       "      <td>NaN</td>\n",
       "      <td>NaN</td>\n",
       "      <td>NaN</td>\n",
       "      <td>NaN</td>\n",
       "      <td>NaN</td>\n",
       "      <td>NaN</td>\n",
       "      <td>NaN</td>\n",
       "      <td>NaN</td>\n",
       "      <td>NaN</td>\n",
       "      <td>NaN</td>\n",
       "      <td>NaN</td>\n",
       "      <td>NaN</td>\n",
       "      <td>NaN</td>\n",
       "      <td>NaN</td>\n",
       "      <td>NaN</td>\n",
       "    </tr>\n",
       "    <tr>\n",
       "      <th>10</th>\n",
       "      <td>NaN</td>\n",
       "      <td>2012-07-01 00:00:00</td>\n",
       "      <td>2012-08-01 00:00:00</td>\n",
       "      <td>2012-09-01 00:00:00</td>\n",
       "      <td>2012-10-01 00:00:00</td>\n",
       "      <td>2012-11-01 00:00:00</td>\n",
       "      <td>2012-12-01 00:00:00</td>\n",
       "      <td>2013-01-01 00:00:00</td>\n",
       "      <td>2013-02-01 00:00:00</td>\n",
       "      <td>2013-03-01 00:00:00</td>\n",
       "      <td>2013-04-01 00:00:00</td>\n",
       "      <td>2013-05-01 00:00:00</td>\n",
       "      <td>2013-06-01 00:00:00</td>\n",
       "      <td>2013-07-01 00:00:00</td>\n",
       "      <td>2013-08-01 00:00:00</td>\n",
       "      <td>2013-09-01 00:00:00</td>\n",
       "    </tr>\n",
       "    <tr>\n",
       "      <th>11</th>\n",
       "      <td>Units Sold</td>\n",
       "      <td>NaN</td>\n",
       "      <td>NaN</td>\n",
       "      <td>NaN</td>\n",
       "      <td>NaN</td>\n",
       "      <td>NaN</td>\n",
       "      <td>NaN</td>\n",
       "      <td>NaN</td>\n",
       "      <td>NaN</td>\n",
       "      <td>NaN</td>\n",
       "      <td>NaN</td>\n",
       "      <td>NaN</td>\n",
       "      <td>NaN</td>\n",
       "      <td>NaN</td>\n",
       "      <td>NaN</td>\n",
       "      <td>NaN</td>\n",
       "    </tr>\n",
       "    <tr>\n",
       "      <th>12</th>\n",
       "      <td>Local</td>\n",
       "      <td>4400800.1</td>\n",
       "      <td>4233714.74</td>\n",
       "      <td>4991814.59</td>\n",
       "      <td>5177435.73</td>\n",
       "      <td>4920379.38</td>\n",
       "      <td>5502182.25</td>\n",
       "      <td>5330316.29726</td>\n",
       "      <td>4823771.583533</td>\n",
       "      <td>5530983.027387</td>\n",
       "      <td>4807696.580684</td>\n",
       "      <td>5592799.039394</td>\n",
       "      <td>5755797.880196</td>\n",
       "      <td>4996243.069508</td>\n",
       "      <td>4902360.844462</td>\n",
       "      <td>4967460.867429</td>\n",
       "    </tr>\n",
       "    <tr>\n",
       "      <th>13</th>\n",
       "      <td>Goods</td>\n",
       "      <td>855156.18</td>\n",
       "      <td>1162884.17</td>\n",
       "      <td>1629823.06</td>\n",
       "      <td>1879696.7</td>\n",
       "      <td>2583171.53</td>\n",
       "      <td>1915783.55</td>\n",
       "      <td>1596737.74</td>\n",
       "      <td>1491286.16</td>\n",
       "      <td>1685055.23</td>\n",
       "      <td>2470160.52</td>\n",
       "      <td>2726325.92</td>\n",
       "      <td>2651338.24</td>\n",
       "      <td>2267942.734016</td>\n",
       "      <td>2471564.289269</td>\n",
       "      <td>2346841.511573</td>\n",
       "    </tr>\n",
       "    <tr>\n",
       "      <th>14</th>\n",
       "      <td>Travel</td>\n",
       "      <td>61283.36</td>\n",
       "      <td>84984.55</td>\n",
       "      <td>60253.49</td>\n",
       "      <td>74358.37</td>\n",
       "      <td>87332.57</td>\n",
       "      <td>93702.6</td>\n",
       "      <td>84821.49</td>\n",
       "      <td>55029.81</td>\n",
       "      <td>84685.82</td>\n",
       "      <td>102090.52</td>\n",
       "      <td>144592.28</td>\n",
       "      <td>142509.04</td>\n",
       "      <td>103020.751007</td>\n",
       "      <td>108411.787686</td>\n",
       "      <td>105751.94138</td>\n",
       "    </tr>\n",
       "    <tr>\n",
       "      <th>15</th>\n",
       "      <td>Total</td>\n",
       "      <td>5317239.64</td>\n",
       "      <td>5481583.46</td>\n",
       "      <td>6681891.14</td>\n",
       "      <td>7131490.8</td>\n",
       "      <td>7590883.48</td>\n",
       "      <td>7511668.4</td>\n",
       "      <td>7011875.52726</td>\n",
       "      <td>6370087.553533</td>\n",
       "      <td>7300724.077387</td>\n",
       "      <td>7379947.620684</td>\n",
       "      <td>8463717.239394</td>\n",
       "      <td>8549645.160196</td>\n",
       "      <td>7367206.554531</td>\n",
       "      <td>7482336.921417</td>\n",
       "      <td>7420054.320382</td>\n",
       "    </tr>\n",
       "    <tr>\n",
       "      <th>16</th>\n",
       "      <td>NaN</td>\n",
       "      <td>NaN</td>\n",
       "      <td>NaN</td>\n",
       "      <td>NaN</td>\n",
       "      <td>NaN</td>\n",
       "      <td>NaN</td>\n",
       "      <td>NaN</td>\n",
       "      <td>NaN</td>\n",
       "      <td>NaN</td>\n",
       "      <td>NaN</td>\n",
       "      <td>NaN</td>\n",
       "      <td>NaN</td>\n",
       "      <td>NaN</td>\n",
       "      <td>NaN</td>\n",
       "      <td>NaN</td>\n",
       "      <td>NaN</td>\n",
       "    </tr>\n",
       "    <tr>\n",
       "      <th>17</th>\n",
       "      <td>NaN</td>\n",
       "      <td>Q3 2012</td>\n",
       "      <td>NaN</td>\n",
       "      <td>NaN</td>\n",
       "      <td>Q4 2012</td>\n",
       "      <td>NaN</td>\n",
       "      <td>NaN</td>\n",
       "      <td>Q1 2013</td>\n",
       "      <td>NaN</td>\n",
       "      <td>NaN</td>\n",
       "      <td>Q2 2013</td>\n",
       "      <td>NaN</td>\n",
       "      <td>NaN</td>\n",
       "      <td>Q3 2013</td>\n",
       "      <td>NaN</td>\n",
       "      <td>NaN</td>\n",
       "    </tr>\n",
       "    <tr>\n",
       "      <th>18</th>\n",
       "      <td>NaN</td>\n",
       "      <td>NaN</td>\n",
       "      <td>NaN</td>\n",
       "      <td>NaN</td>\n",
       "      <td>NaN</td>\n",
       "      <td>NaN</td>\n",
       "      <td>NaN</td>\n",
       "      <td>NaN</td>\n",
       "      <td>NaN</td>\n",
       "      <td>NaN</td>\n",
       "      <td>NaN</td>\n",
       "      <td>NaN</td>\n",
       "      <td>NaN</td>\n",
       "      <td>NaN</td>\n",
       "      <td>NaN</td>\n",
       "      <td>NaN</td>\n",
       "    </tr>\n",
       "    <tr>\n",
       "      <th>19</th>\n",
       "      <td>NaN</td>\n",
       "      <td>2012-07-01 00:00:00</td>\n",
       "      <td>2012-08-01 00:00:00</td>\n",
       "      <td>2012-09-01 00:00:00</td>\n",
       "      <td>2012-10-01 00:00:00</td>\n",
       "      <td>2012-11-01 00:00:00</td>\n",
       "      <td>2012-12-01 00:00:00</td>\n",
       "      <td>2013-01-01 00:00:00</td>\n",
       "      <td>2013-02-01 00:00:00</td>\n",
       "      <td>2013-03-01 00:00:00</td>\n",
       "      <td>2013-04-01 00:00:00</td>\n",
       "      <td>2013-05-01 00:00:00</td>\n",
       "      <td>2013-06-01 00:00:00</td>\n",
       "      <td>2013-07-01 00:00:00</td>\n",
       "      <td>2013-08-01 00:00:00</td>\n",
       "      <td>2013-09-01 00:00:00</td>\n",
       "    </tr>\n",
       "    <tr>\n",
       "      <th>20</th>\n",
       "      <td>New Deals Started</td>\n",
       "      <td>NaN</td>\n",
       "      <td>NaN</td>\n",
       "      <td>NaN</td>\n",
       "      <td>NaN</td>\n",
       "      <td>NaN</td>\n",
       "      <td>NaN</td>\n",
       "      <td>NaN</td>\n",
       "      <td>NaN</td>\n",
       "      <td>NaN</td>\n",
       "      <td>NaN</td>\n",
       "      <td>NaN</td>\n",
       "      <td>NaN</td>\n",
       "      <td>NaN</td>\n",
       "      <td>NaN</td>\n",
       "      <td>NaN</td>\n",
       "    </tr>\n",
       "    <tr>\n",
       "      <th>21</th>\n",
       "      <td>Local</td>\n",
       "      <td>13543</td>\n",
       "      <td>12926</td>\n",
       "      <td>12814</td>\n",
       "      <td>14544</td>\n",
       "      <td>13914</td>\n",
       "      <td>15374</td>\n",
       "      <td>12375</td>\n",
       "      <td>11846</td>\n",
       "      <td>13041</td>\n",
       "      <td>10790</td>\n",
       "      <td>14281</td>\n",
       "      <td>13815</td>\n",
       "      <td>14173</td>\n",
       "      <td>13075</td>\n",
       "      <td>10670</td>\n",
       "    </tr>\n",
       "    <tr>\n",
       "      <th>22</th>\n",
       "      <td>Goods</td>\n",
       "      <td>334</td>\n",
       "      <td>448</td>\n",
       "      <td>525</td>\n",
       "      <td>770</td>\n",
       "      <td>1079</td>\n",
       "      <td>1310</td>\n",
       "      <td>992</td>\n",
       "      <td>1197</td>\n",
       "      <td>1499</td>\n",
       "      <td>1755</td>\n",
       "      <td>2185</td>\n",
       "      <td>2610</td>\n",
       "      <td>2796</td>\n",
       "      <td>2887</td>\n",
       "      <td>2847</td>\n",
       "    </tr>\n",
       "    <tr>\n",
       "      <th>23</th>\n",
       "      <td>Travel</td>\n",
       "      <td>211</td>\n",
       "      <td>277</td>\n",
       "      <td>217</td>\n",
       "      <td>262</td>\n",
       "      <td>270</td>\n",
       "      <td>334</td>\n",
       "      <td>243</td>\n",
       "      <td>188</td>\n",
       "      <td>205</td>\n",
       "      <td>329</td>\n",
       "      <td>471</td>\n",
       "      <td>458</td>\n",
       "      <td>506</td>\n",
       "      <td>537</td>\n",
       "      <td>571</td>\n",
       "    </tr>\n",
       "    <tr>\n",
       "      <th>24</th>\n",
       "      <td>Total</td>\n",
       "      <td>14088</td>\n",
       "      <td>13651</td>\n",
       "      <td>13556</td>\n",
       "      <td>15576</td>\n",
       "      <td>15263</td>\n",
       "      <td>17018</td>\n",
       "      <td>13610</td>\n",
       "      <td>13231</td>\n",
       "      <td>14745</td>\n",
       "      <td>12874</td>\n",
       "      <td>16937</td>\n",
       "      <td>16883</td>\n",
       "      <td>17475</td>\n",
       "      <td>16499</td>\n",
       "      <td>14088</td>\n",
       "    </tr>\n",
       "  </tbody>\n",
       "</table>\n",
       "</div>"
      ],
      "text/plain": [
       "   YipitData Historical Estimates              Q3 2012           Unnamed: 2  \\\n",
       "0                             NaN                  NaN                  NaN   \n",
       "1                             NaN  2012-07-01 00:00:00  2012-08-01 00:00:00   \n",
       "2      Gross Billings ($ million)                  NaN                  NaN   \n",
       "3                           Local           133.414773           137.321693   \n",
       "4                           Goods            26.733909            33.008915   \n",
       "5                          Travel            16.770766            15.436645   \n",
       "6                           Total           176.919448           185.767253   \n",
       "7                             NaN                  NaN                  NaN   \n",
       "8                             NaN              Q3 2012                  NaN   \n",
       "9                             NaN                  NaN                  NaN   \n",
       "10                            NaN  2012-07-01 00:00:00  2012-08-01 00:00:00   \n",
       "11                     Units Sold                  NaN                  NaN   \n",
       "12                          Local            4400800.1           4233714.74   \n",
       "13                          Goods            855156.18           1162884.17   \n",
       "14                         Travel             61283.36             84984.55   \n",
       "15                          Total           5317239.64           5481583.46   \n",
       "16                            NaN                  NaN                  NaN   \n",
       "17                            NaN              Q3 2012                  NaN   \n",
       "18                            NaN                  NaN                  NaN   \n",
       "19                            NaN  2012-07-01 00:00:00  2012-08-01 00:00:00   \n",
       "20              New Deals Started                  NaN                  NaN   \n",
       "21                          Local                13543                12926   \n",
       "22                          Goods                  334                  448   \n",
       "23                         Travel                  211                  277   \n",
       "24                          Total                14088                13651   \n",
       "\n",
       "             Unnamed: 3              Q4 2012           Unnamed: 5  \\\n",
       "0                   NaN                  NaN                  NaN   \n",
       "1   2012-09-01 00:00:00  2012-10-01 00:00:00  2012-11-01 00:00:00   \n",
       "2                   NaN                  NaN                  NaN   \n",
       "3                 138.2                126.8                139.9   \n",
       "4                  50.8                 64.3                 85.1   \n",
       "5                  14.3                 16.6                 14.6   \n",
       "6                 203.3                207.7                239.6   \n",
       "7                   NaN                  NaN                  NaN   \n",
       "8                   NaN              Q4 2012                  NaN   \n",
       "9                   NaN                  NaN                  NaN   \n",
       "10  2012-09-01 00:00:00  2012-10-01 00:00:00  2012-11-01 00:00:00   \n",
       "11                  NaN                  NaN                  NaN   \n",
       "12           4991814.59           5177435.73           4920379.38   \n",
       "13           1629823.06            1879696.7           2583171.53   \n",
       "14             60253.49             74358.37             87332.57   \n",
       "15           6681891.14            7131490.8           7590883.48   \n",
       "16                  NaN                  NaN                  NaN   \n",
       "17                  NaN              Q4 2012                  NaN   \n",
       "18                  NaN                  NaN                  NaN   \n",
       "19  2012-09-01 00:00:00  2012-10-01 00:00:00  2012-11-01 00:00:00   \n",
       "20                  NaN                  NaN                  NaN   \n",
       "21                12814                14544                13914   \n",
       "22                  525                  770                 1079   \n",
       "23                  217                  262                  270   \n",
       "24                13556                15576                15263   \n",
       "\n",
       "             Unnamed: 6              Q1 2013           Unnamed: 8  \\\n",
       "0                   NaN                  NaN                  NaN   \n",
       "1   2012-12-01 00:00:00  2013-01-01 00:00:00  2013-02-01 00:00:00   \n",
       "2                   NaN                  NaN                  NaN   \n",
       "3                 164.4                162.7                  143   \n",
       "4                  64.3                 47.3                   46   \n",
       "5                  18.5                 22.6                 13.6   \n",
       "6                 247.2                232.6                202.6   \n",
       "7                   NaN                  NaN                  NaN   \n",
       "8                   NaN              Q1 2013                  NaN   \n",
       "9                   NaN                  NaN                  NaN   \n",
       "10  2012-12-01 00:00:00  2013-01-01 00:00:00  2013-02-01 00:00:00   \n",
       "11                  NaN                  NaN                  NaN   \n",
       "12           5502182.25        5330316.29726       4823771.583533   \n",
       "13           1915783.55           1596737.74           1491286.16   \n",
       "14              93702.6             84821.49             55029.81   \n",
       "15            7511668.4        7011875.52726       6370087.553533   \n",
       "16                  NaN                  NaN                  NaN   \n",
       "17                  NaN              Q1 2013                  NaN   \n",
       "18                  NaN                  NaN                  NaN   \n",
       "19  2012-12-01 00:00:00  2013-01-01 00:00:00  2013-02-01 00:00:00   \n",
       "20                  NaN                  NaN                  NaN   \n",
       "21                15374                12375                11846   \n",
       "22                 1310                  992                 1197   \n",
       "23                  334                  243                  188   \n",
       "24                17018                13610                13231   \n",
       "\n",
       "             Unnamed: 9              Q2 2013          Unnamed: 11  \\\n",
       "0                   NaN                  NaN                  NaN   \n",
       "1   2013-03-01 00:00:00  2013-04-01 00:00:00  2013-05-01 00:00:00   \n",
       "2                   NaN                  NaN                  NaN   \n",
       "3                 163.4                143.8                162.2   \n",
       "4                    51                 62.8                 71.7   \n",
       "5                  20.3                 18.9                 22.9   \n",
       "6                 234.7                225.5                256.8   \n",
       "7                   NaN                  NaN                  NaN   \n",
       "8                   NaN              Q2 2013                  NaN   \n",
       "9                   NaN                  NaN                  NaN   \n",
       "10  2013-03-01 00:00:00  2013-04-01 00:00:00  2013-05-01 00:00:00   \n",
       "11                  NaN                  NaN                  NaN   \n",
       "12       5530983.027387       4807696.580684       5592799.039394   \n",
       "13           1685055.23           2470160.52           2726325.92   \n",
       "14             84685.82            102090.52            144592.28   \n",
       "15       7300724.077387       7379947.620684       8463717.239394   \n",
       "16                  NaN                  NaN                  NaN   \n",
       "17                  NaN              Q2 2013                  NaN   \n",
       "18                  NaN                  NaN                  NaN   \n",
       "19  2013-03-01 00:00:00  2013-04-01 00:00:00  2013-05-01 00:00:00   \n",
       "20                  NaN                  NaN                  NaN   \n",
       "21                13041                10790                14281   \n",
       "22                 1499                 1755                 2185   \n",
       "23                  205                  329                  471   \n",
       "24                14745                12874                16937   \n",
       "\n",
       "            Unnamed: 12              Q3 2013          Unnamed: 14  \\\n",
       "0                   NaN                  NaN                  NaN   \n",
       "1   2013-06-01 00:00:00  2013-07-01 00:00:00  2013-08-01 00:00:00   \n",
       "2                   NaN                  NaN                  NaN   \n",
       "3                 153.2           139.951254            136.66794   \n",
       "4                  67.1            61.279984            67.024982   \n",
       "5                  22.8            22.404492            22.738887   \n",
       "6                 243.1           223.635729           226.431809   \n",
       "7                   NaN                  NaN                  NaN   \n",
       "8                   NaN              Q3 2013                  NaN   \n",
       "9                   NaN                  NaN                  NaN   \n",
       "10  2013-06-01 00:00:00  2013-07-01 00:00:00  2013-08-01 00:00:00   \n",
       "11                  NaN                  NaN                  NaN   \n",
       "12       5755797.880196       4996243.069508       4902360.844462   \n",
       "13           2651338.24       2267942.734016       2471564.289269   \n",
       "14            142509.04        103020.751007        108411.787686   \n",
       "15       8549645.160196       7367206.554531       7482336.921417   \n",
       "16                  NaN                  NaN                  NaN   \n",
       "17                  NaN              Q3 2013                  NaN   \n",
       "18                  NaN                  NaN                  NaN   \n",
       "19  2013-06-01 00:00:00  2013-07-01 00:00:00  2013-08-01 00:00:00   \n",
       "20                  NaN                  NaN                  NaN   \n",
       "21                13815                14173                13075   \n",
       "22                 2610                 2796                 2887   \n",
       "23                  458                  506                  537   \n",
       "24                16883                17475                16499   \n",
       "\n",
       "            Unnamed: 15  \n",
       "0                   NaN  \n",
       "1   2013-09-01 00:00:00  \n",
       "2                   NaN  \n",
       "3             133.79504  \n",
       "4             63.194983  \n",
       "5             21.735701  \n",
       "6            218.725724  \n",
       "7                   NaN  \n",
       "8                   NaN  \n",
       "9                   NaN  \n",
       "10  2013-09-01 00:00:00  \n",
       "11                  NaN  \n",
       "12       4967460.867429  \n",
       "13       2346841.511573  \n",
       "14         105751.94138  \n",
       "15       7420054.320382  \n",
       "16                  NaN  \n",
       "17                  NaN  \n",
       "18                  NaN  \n",
       "19  2013-09-01 00:00:00  \n",
       "20                  NaN  \n",
       "21                10670  \n",
       "22                 2847  \n",
       "23                  571  \n",
       "24                14088  "
      ]
     },
     "execution_count": 4,
     "metadata": {},
     "output_type": "execute_result"
    }
   ],
   "source": [
    "df2 = pd.read_excel(r'Groupon_North_America_Data_Q4_2013_XLSX.xlsx', sheet_name=1)\n",
    "\n",
    "df2"
   ]
  },
  {
   "cell_type": "markdown",
   "id": "5ee7cb69",
   "metadata": {},
   "source": [
    "#### Cleaning and reindexing the historical data sheet and fit it into a dataframe."
   ]
  },
  {
   "cell_type": "code",
   "execution_count": 5,
   "id": "807255b2",
   "metadata": {},
   "outputs": [],
   "source": [
    "dfH = {}\n",
    "\n",
    "dfH['grossbillings'] = df2[1:7].drop(index=2)\n",
    "dfH['units_sold'] = df2[12:16]\n",
    "dfH['deals_started'] = df2[21:]"
   ]
  },
  {
   "cell_type": "code",
   "execution_count": 6,
   "id": "e9b3b2b5",
   "metadata": {},
   "outputs": [],
   "source": [
    "dfH['grossbillings'].columns = dfH['grossbillings'].loc[1, :]\n",
    "dfH['grossbillings'].drop(index=1, inplace=True)\n",
    "dfH['units_sold'].columns = dfH['grossbillings'].columns\n",
    "dfH['deals_started'].columns = dfH['grossbillings'].columns"
   ]
  },
  {
   "cell_type": "code",
   "execution_count": 7,
   "id": "3a82f7a3",
   "metadata": {},
   "outputs": [
    {
     "name": "stdout",
     "output_type": "stream",
     "text": [
      "grossbillings\n",
      "units_sold\n",
      "deals_started\n"
     ]
    }
   ],
   "source": [
    "# transpose row to column\n",
    "for key in dfH.keys():\n",
    "    print(key)\n",
    "    dfH[key] = dfH[key].transpose()\n",
    "    dfH[key].columns = dfH[key].loc[pd.NaT, :]\n",
    "    dfH[key].drop(index=pd.NaT, inplace=True)"
   ]
  },
  {
   "cell_type": "code",
   "execution_count": 8,
   "id": "ec8ae5fa",
   "metadata": {},
   "outputs": [
    {
     "data": {
      "text/html": [
       "<div>\n",
       "<style scoped>\n",
       "    .dataframe tbody tr th:only-of-type {\n",
       "        vertical-align: middle;\n",
       "    }\n",
       "\n",
       "    .dataframe tbody tr th {\n",
       "        vertical-align: top;\n",
       "    }\n",
       "\n",
       "    .dataframe thead th {\n",
       "        text-align: right;\n",
       "    }\n",
       "</style>\n",
       "<table border=\"1\" class=\"dataframe\">\n",
       "  <thead>\n",
       "    <tr style=\"text-align: right;\">\n",
       "      <th>NaT</th>\n",
       "      <th>Local</th>\n",
       "      <th>Goods</th>\n",
       "      <th>Travel</th>\n",
       "      <th>Total</th>\n",
       "    </tr>\n",
       "    <tr>\n",
       "      <th>1</th>\n",
       "      <th></th>\n",
       "      <th></th>\n",
       "      <th></th>\n",
       "      <th></th>\n",
       "    </tr>\n",
       "  </thead>\n",
       "  <tbody>\n",
       "    <tr>\n",
       "      <th>2012-07-01</th>\n",
       "      <td>133414773.040001</td>\n",
       "      <td>26733909.13</td>\n",
       "      <td>16770765.93</td>\n",
       "      <td>176919448.100001</td>\n",
       "    </tr>\n",
       "    <tr>\n",
       "      <th>2012-08-01</th>\n",
       "      <td>137321693.41</td>\n",
       "      <td>33008914.69</td>\n",
       "      <td>15436645.08</td>\n",
       "      <td>185767253.18</td>\n",
       "    </tr>\n",
       "    <tr>\n",
       "      <th>2012-09-01</th>\n",
       "      <td>138200000.0</td>\n",
       "      <td>50800000.0</td>\n",
       "      <td>14300000.0</td>\n",
       "      <td>203300000.0</td>\n",
       "    </tr>\n",
       "    <tr>\n",
       "      <th>2012-10-01</th>\n",
       "      <td>126800000.0</td>\n",
       "      <td>64300000.0</td>\n",
       "      <td>16600000.0</td>\n",
       "      <td>207700000.0</td>\n",
       "    </tr>\n",
       "    <tr>\n",
       "      <th>2012-11-01</th>\n",
       "      <td>139900000.0</td>\n",
       "      <td>85100000.0</td>\n",
       "      <td>14600000.0</td>\n",
       "      <td>239600000.0</td>\n",
       "    </tr>\n",
       "    <tr>\n",
       "      <th>2012-12-01</th>\n",
       "      <td>164400000.0</td>\n",
       "      <td>64300000.0</td>\n",
       "      <td>18500000.0</td>\n",
       "      <td>247200000.0</td>\n",
       "    </tr>\n",
       "    <tr>\n",
       "      <th>2013-01-01</th>\n",
       "      <td>162700000.0</td>\n",
       "      <td>47300000.0</td>\n",
       "      <td>22600000.0</td>\n",
       "      <td>232600000.0</td>\n",
       "    </tr>\n",
       "    <tr>\n",
       "      <th>2013-02-01</th>\n",
       "      <td>143000000.0</td>\n",
       "      <td>46000000.0</td>\n",
       "      <td>13600000.0</td>\n",
       "      <td>202600000.0</td>\n",
       "    </tr>\n",
       "    <tr>\n",
       "      <th>2013-03-01</th>\n",
       "      <td>163400000.0</td>\n",
       "      <td>51000000.0</td>\n",
       "      <td>20300000.0</td>\n",
       "      <td>234700000.0</td>\n",
       "    </tr>\n",
       "    <tr>\n",
       "      <th>2013-04-01</th>\n",
       "      <td>143800000.0</td>\n",
       "      <td>62800000.0</td>\n",
       "      <td>18900000.0</td>\n",
       "      <td>225500000.0</td>\n",
       "    </tr>\n",
       "    <tr>\n",
       "      <th>2013-05-01</th>\n",
       "      <td>162200000.0</td>\n",
       "      <td>71700000.0</td>\n",
       "      <td>22900000.0</td>\n",
       "      <td>256800000.0</td>\n",
       "    </tr>\n",
       "    <tr>\n",
       "      <th>2013-06-01</th>\n",
       "      <td>153200000.0</td>\n",
       "      <td>67100000.0</td>\n",
       "      <td>22800000.0</td>\n",
       "      <td>243100000.0</td>\n",
       "    </tr>\n",
       "    <tr>\n",
       "      <th>2013-07-01</th>\n",
       "      <td>139951253.500419</td>\n",
       "      <td>61279983.675998</td>\n",
       "      <td>22404491.599</td>\n",
       "      <td>223635728.775416</td>\n",
       "    </tr>\n",
       "    <tr>\n",
       "      <th>2013-08-01</th>\n",
       "      <td>136667939.635306</td>\n",
       "      <td>67024982.145622</td>\n",
       "      <td>22738886.996</td>\n",
       "      <td>226431808.776928</td>\n",
       "    </tr>\n",
       "    <tr>\n",
       "      <th>2013-09-01</th>\n",
       "      <td>133795040.003333</td>\n",
       "      <td>63194983.165872</td>\n",
       "      <td>21735700.805</td>\n",
       "      <td>218725723.974205</td>\n",
       "    </tr>\n",
       "  </tbody>\n",
       "</table>\n",
       "</div>"
      ],
      "text/plain": [
       "NaT                    Local            Goods        Travel             Total\n",
       "1                                                                            \n",
       "2012-07-01  133414773.040001      26733909.13   16770765.93  176919448.100001\n",
       "2012-08-01      137321693.41      33008914.69   15436645.08      185767253.18\n",
       "2012-09-01       138200000.0       50800000.0    14300000.0       203300000.0\n",
       "2012-10-01       126800000.0       64300000.0    16600000.0       207700000.0\n",
       "2012-11-01       139900000.0       85100000.0    14600000.0       239600000.0\n",
       "2012-12-01       164400000.0       64300000.0    18500000.0       247200000.0\n",
       "2013-01-01       162700000.0       47300000.0    22600000.0       232600000.0\n",
       "2013-02-01       143000000.0       46000000.0    13600000.0       202600000.0\n",
       "2013-03-01       163400000.0       51000000.0    20300000.0       234700000.0\n",
       "2013-04-01       143800000.0       62800000.0    18900000.0       225500000.0\n",
       "2013-05-01       162200000.0       71700000.0    22900000.0       256800000.0\n",
       "2013-06-01       153200000.0       67100000.0    22800000.0       243100000.0\n",
       "2013-07-01  139951253.500419  61279983.675998  22404491.599  223635728.775416\n",
       "2013-08-01  136667939.635306  67024982.145622  22738886.996  226431808.776928\n",
       "2013-09-01  133795040.003333  63194983.165872  21735700.805  218725723.974205"
      ]
     },
     "execution_count": 8,
     "metadata": {},
     "output_type": "execute_result"
    }
   ],
   "source": [
    "# convert gross billings to dollar amount\n",
    "dfH['grossbillings'] = 1.0e6 * dfH['grossbillings']\n",
    "\n",
    "dfH['grossbillings']"
   ]
  },
  {
   "cell_type": "code",
   "execution_count": 9,
   "id": "59424fe9",
   "metadata": {},
   "outputs": [
    {
     "data": {
      "text/html": [
       "<div>\n",
       "<style scoped>\n",
       "    .dataframe tbody tr th:only-of-type {\n",
       "        vertical-align: middle;\n",
       "    }\n",
       "\n",
       "    .dataframe tbody tr th {\n",
       "        vertical-align: top;\n",
       "    }\n",
       "\n",
       "    .dataframe thead th {\n",
       "        text-align: right;\n",
       "    }\n",
       "</style>\n",
       "<table border=\"1\" class=\"dataframe\">\n",
       "  <thead>\n",
       "    <tr style=\"text-align: right;\">\n",
       "      <th>NaT</th>\n",
       "      <th>Local</th>\n",
       "      <th>Goods</th>\n",
       "      <th>Travel</th>\n",
       "      <th>Total</th>\n",
       "    </tr>\n",
       "    <tr>\n",
       "      <th>1</th>\n",
       "      <th></th>\n",
       "      <th></th>\n",
       "      <th></th>\n",
       "      <th></th>\n",
       "    </tr>\n",
       "  </thead>\n",
       "  <tbody>\n",
       "    <tr>\n",
       "      <th>2012-07-01</th>\n",
       "      <td>4400800.1</td>\n",
       "      <td>855156.18</td>\n",
       "      <td>61283.36</td>\n",
       "      <td>5317239.64</td>\n",
       "    </tr>\n",
       "    <tr>\n",
       "      <th>2012-08-01</th>\n",
       "      <td>4233714.74</td>\n",
       "      <td>1162884.17</td>\n",
       "      <td>84984.55</td>\n",
       "      <td>5481583.46</td>\n",
       "    </tr>\n",
       "    <tr>\n",
       "      <th>2012-09-01</th>\n",
       "      <td>4991814.59</td>\n",
       "      <td>1629823.06</td>\n",
       "      <td>60253.49</td>\n",
       "      <td>6681891.14</td>\n",
       "    </tr>\n",
       "    <tr>\n",
       "      <th>2012-10-01</th>\n",
       "      <td>5177435.73</td>\n",
       "      <td>1879696.7</td>\n",
       "      <td>74358.37</td>\n",
       "      <td>7131490.8</td>\n",
       "    </tr>\n",
       "    <tr>\n",
       "      <th>2012-11-01</th>\n",
       "      <td>4920379.38</td>\n",
       "      <td>2583171.53</td>\n",
       "      <td>87332.57</td>\n",
       "      <td>7590883.48</td>\n",
       "    </tr>\n",
       "    <tr>\n",
       "      <th>2012-12-01</th>\n",
       "      <td>5502182.25</td>\n",
       "      <td>1915783.55</td>\n",
       "      <td>93702.6</td>\n",
       "      <td>7511668.4</td>\n",
       "    </tr>\n",
       "    <tr>\n",
       "      <th>2013-01-01</th>\n",
       "      <td>5330316.29726</td>\n",
       "      <td>1596737.74</td>\n",
       "      <td>84821.49</td>\n",
       "      <td>7011875.52726</td>\n",
       "    </tr>\n",
       "    <tr>\n",
       "      <th>2013-02-01</th>\n",
       "      <td>4823771.583533</td>\n",
       "      <td>1491286.16</td>\n",
       "      <td>55029.81</td>\n",
       "      <td>6370087.553533</td>\n",
       "    </tr>\n",
       "    <tr>\n",
       "      <th>2013-03-01</th>\n",
       "      <td>5530983.027387</td>\n",
       "      <td>1685055.23</td>\n",
       "      <td>84685.82</td>\n",
       "      <td>7300724.077387</td>\n",
       "    </tr>\n",
       "    <tr>\n",
       "      <th>2013-04-01</th>\n",
       "      <td>4807696.580684</td>\n",
       "      <td>2470160.52</td>\n",
       "      <td>102090.52</td>\n",
       "      <td>7379947.620684</td>\n",
       "    </tr>\n",
       "    <tr>\n",
       "      <th>2013-05-01</th>\n",
       "      <td>5592799.039394</td>\n",
       "      <td>2726325.92</td>\n",
       "      <td>144592.28</td>\n",
       "      <td>8463717.239394</td>\n",
       "    </tr>\n",
       "    <tr>\n",
       "      <th>2013-06-01</th>\n",
       "      <td>5755797.880196</td>\n",
       "      <td>2651338.24</td>\n",
       "      <td>142509.04</td>\n",
       "      <td>8549645.160196</td>\n",
       "    </tr>\n",
       "    <tr>\n",
       "      <th>2013-07-01</th>\n",
       "      <td>4996243.069508</td>\n",
       "      <td>2267942.734016</td>\n",
       "      <td>103020.751007</td>\n",
       "      <td>7367206.554531</td>\n",
       "    </tr>\n",
       "    <tr>\n",
       "      <th>2013-08-01</th>\n",
       "      <td>4902360.844462</td>\n",
       "      <td>2471564.289269</td>\n",
       "      <td>108411.787686</td>\n",
       "      <td>7482336.921417</td>\n",
       "    </tr>\n",
       "    <tr>\n",
       "      <th>2013-09-01</th>\n",
       "      <td>4967460.867429</td>\n",
       "      <td>2346841.511573</td>\n",
       "      <td>105751.94138</td>\n",
       "      <td>7420054.320382</td>\n",
       "    </tr>\n",
       "  </tbody>\n",
       "</table>\n",
       "</div>"
      ],
      "text/plain": [
       "NaT                  Local           Goods         Travel           Total\n",
       "1                                                                        \n",
       "2012-07-01       4400800.1       855156.18       61283.36      5317239.64\n",
       "2012-08-01      4233714.74      1162884.17       84984.55      5481583.46\n",
       "2012-09-01      4991814.59      1629823.06       60253.49      6681891.14\n",
       "2012-10-01      5177435.73       1879696.7       74358.37       7131490.8\n",
       "2012-11-01      4920379.38      2583171.53       87332.57      7590883.48\n",
       "2012-12-01      5502182.25      1915783.55        93702.6       7511668.4\n",
       "2013-01-01   5330316.29726      1596737.74       84821.49   7011875.52726\n",
       "2013-02-01  4823771.583533      1491286.16       55029.81  6370087.553533\n",
       "2013-03-01  5530983.027387      1685055.23       84685.82  7300724.077387\n",
       "2013-04-01  4807696.580684      2470160.52      102090.52  7379947.620684\n",
       "2013-05-01  5592799.039394      2726325.92      144592.28  8463717.239394\n",
       "2013-06-01  5755797.880196      2651338.24      142509.04  8549645.160196\n",
       "2013-07-01  4996243.069508  2267942.734016  103020.751007  7367206.554531\n",
       "2013-08-01  4902360.844462  2471564.289269  108411.787686  7482336.921417\n",
       "2013-09-01  4967460.867429  2346841.511573   105751.94138  7420054.320382"
      ]
     },
     "execution_count": 9,
     "metadata": {},
     "output_type": "execute_result"
    }
   ],
   "source": [
    "dfH['units_sold']"
   ]
  },
  {
   "cell_type": "code",
   "execution_count": 10,
   "id": "cd615681",
   "metadata": {},
   "outputs": [
    {
     "data": {
      "text/html": [
       "<div>\n",
       "<style scoped>\n",
       "    .dataframe tbody tr th:only-of-type {\n",
       "        vertical-align: middle;\n",
       "    }\n",
       "\n",
       "    .dataframe tbody tr th {\n",
       "        vertical-align: top;\n",
       "    }\n",
       "\n",
       "    .dataframe thead th {\n",
       "        text-align: right;\n",
       "    }\n",
       "</style>\n",
       "<table border=\"1\" class=\"dataframe\">\n",
       "  <thead>\n",
       "    <tr style=\"text-align: right;\">\n",
       "      <th>NaT</th>\n",
       "      <th>Local</th>\n",
       "      <th>Goods</th>\n",
       "      <th>Travel</th>\n",
       "      <th>Total</th>\n",
       "    </tr>\n",
       "    <tr>\n",
       "      <th>1</th>\n",
       "      <th></th>\n",
       "      <th></th>\n",
       "      <th></th>\n",
       "      <th></th>\n",
       "    </tr>\n",
       "  </thead>\n",
       "  <tbody>\n",
       "    <tr>\n",
       "      <th>2012-07-01</th>\n",
       "      <td>13543</td>\n",
       "      <td>334</td>\n",
       "      <td>211</td>\n",
       "      <td>14088</td>\n",
       "    </tr>\n",
       "    <tr>\n",
       "      <th>2012-08-01</th>\n",
       "      <td>12926</td>\n",
       "      <td>448</td>\n",
       "      <td>277</td>\n",
       "      <td>13651</td>\n",
       "    </tr>\n",
       "    <tr>\n",
       "      <th>2012-09-01</th>\n",
       "      <td>12814</td>\n",
       "      <td>525</td>\n",
       "      <td>217</td>\n",
       "      <td>13556</td>\n",
       "    </tr>\n",
       "    <tr>\n",
       "      <th>2012-10-01</th>\n",
       "      <td>14544</td>\n",
       "      <td>770</td>\n",
       "      <td>262</td>\n",
       "      <td>15576</td>\n",
       "    </tr>\n",
       "    <tr>\n",
       "      <th>2012-11-01</th>\n",
       "      <td>13914</td>\n",
       "      <td>1079</td>\n",
       "      <td>270</td>\n",
       "      <td>15263</td>\n",
       "    </tr>\n",
       "    <tr>\n",
       "      <th>2012-12-01</th>\n",
       "      <td>15374</td>\n",
       "      <td>1310</td>\n",
       "      <td>334</td>\n",
       "      <td>17018</td>\n",
       "    </tr>\n",
       "    <tr>\n",
       "      <th>2013-01-01</th>\n",
       "      <td>12375</td>\n",
       "      <td>992</td>\n",
       "      <td>243</td>\n",
       "      <td>13610</td>\n",
       "    </tr>\n",
       "    <tr>\n",
       "      <th>2013-02-01</th>\n",
       "      <td>11846</td>\n",
       "      <td>1197</td>\n",
       "      <td>188</td>\n",
       "      <td>13231</td>\n",
       "    </tr>\n",
       "    <tr>\n",
       "      <th>2013-03-01</th>\n",
       "      <td>13041</td>\n",
       "      <td>1499</td>\n",
       "      <td>205</td>\n",
       "      <td>14745</td>\n",
       "    </tr>\n",
       "    <tr>\n",
       "      <th>2013-04-01</th>\n",
       "      <td>10790</td>\n",
       "      <td>1755</td>\n",
       "      <td>329</td>\n",
       "      <td>12874</td>\n",
       "    </tr>\n",
       "    <tr>\n",
       "      <th>2013-05-01</th>\n",
       "      <td>14281</td>\n",
       "      <td>2185</td>\n",
       "      <td>471</td>\n",
       "      <td>16937</td>\n",
       "    </tr>\n",
       "    <tr>\n",
       "      <th>2013-06-01</th>\n",
       "      <td>13815</td>\n",
       "      <td>2610</td>\n",
       "      <td>458</td>\n",
       "      <td>16883</td>\n",
       "    </tr>\n",
       "    <tr>\n",
       "      <th>2013-07-01</th>\n",
       "      <td>14173</td>\n",
       "      <td>2796</td>\n",
       "      <td>506</td>\n",
       "      <td>17475</td>\n",
       "    </tr>\n",
       "    <tr>\n",
       "      <th>2013-08-01</th>\n",
       "      <td>13075</td>\n",
       "      <td>2887</td>\n",
       "      <td>537</td>\n",
       "      <td>16499</td>\n",
       "    </tr>\n",
       "    <tr>\n",
       "      <th>2013-09-01</th>\n",
       "      <td>10670</td>\n",
       "      <td>2847</td>\n",
       "      <td>571</td>\n",
       "      <td>14088</td>\n",
       "    </tr>\n",
       "  </tbody>\n",
       "</table>\n",
       "</div>"
      ],
      "text/plain": [
       "NaT         Local Goods Travel  Total\n",
       "1                                    \n",
       "2012-07-01  13543   334    211  14088\n",
       "2012-08-01  12926   448    277  13651\n",
       "2012-09-01  12814   525    217  13556\n",
       "2012-10-01  14544   770    262  15576\n",
       "2012-11-01  13914  1079    270  15263\n",
       "2012-12-01  15374  1310    334  17018\n",
       "2013-01-01  12375   992    243  13610\n",
       "2013-02-01  11846  1197    188  13231\n",
       "2013-03-01  13041  1499    205  14745\n",
       "2013-04-01  10790  1755    329  12874\n",
       "2013-05-01  14281  2185    471  16937\n",
       "2013-06-01  13815  2610    458  16883\n",
       "2013-07-01  14173  2796    506  17475\n",
       "2013-08-01  13075  2887    537  16499\n",
       "2013-09-01  10670  2847    571  14088"
      ]
     },
     "execution_count": 10,
     "metadata": {},
     "output_type": "execute_result"
    }
   ],
   "source": [
    "dfH['deals_started']"
   ]
  },
  {
   "cell_type": "code",
   "execution_count": 11,
   "id": "fea803d7",
   "metadata": {},
   "outputs": [
    {
     "data": {
      "text/plain": [
       "NaT\n",
       "Local     39283\n",
       "Goods      1307\n",
       "Travel      705\n",
       "Total     41295\n",
       "dtype: object"
      ]
     },
     "execution_count": 11,
     "metadata": {},
     "output_type": "execute_result"
    }
   ],
   "source": [
    "# Checking the sum of deals started based on Historical Data sheet -- maybe useful to predict confidence later on.\n",
    "dfH['deals_started'].loc['2012-07-01':'2012-09-01'].sum()"
   ]
  },
  {
   "cell_type": "code",
   "execution_count": 12,
   "id": "fd092d98",
   "metadata": {},
   "outputs": [
    {
     "data": {
      "text/plain": [
       "NaT\n",
       "Local     13626329.430001\n",
       "Goods          3647863.41\n",
       "Travel           206521.4\n",
       "Total     17480714.240001\n",
       "dtype: object"
      ]
     },
     "execution_count": 12,
     "metadata": {},
     "output_type": "execute_result"
    }
   ],
   "source": [
    "dfH['units_sold'].loc['2012-07-01':'2012-09-01'].sum()"
   ]
  },
  {
   "cell_type": "code",
   "execution_count": 13,
   "id": "7b216a08",
   "metadata": {},
   "outputs": [
    {
     "data": {
      "text/plain": [
       "NaT\n",
       "Local     408936466.450001\n",
       "Goods         110542823.82\n",
       "Travel         46507411.01\n",
       "Total     565986701.280001\n",
       "dtype: object"
      ]
     },
     "execution_count": 13,
     "metadata": {},
     "output_type": "execute_result"
    }
   ],
   "source": [
    "dfH['grossbillings'].loc['2012-07-01':'2012-09-01'].sum()"
   ]
  },
  {
   "cell_type": "markdown",
   "id": "1dd2388f",
   "metadata": {},
   "source": [
    "### Load Groupon Historical Data Sheet"
   ]
  },
  {
   "cell_type": "code",
   "execution_count": 14,
   "id": "100c065d",
   "metadata": {},
   "outputs": [
    {
     "data": {
      "text/html": [
       "<div>\n",
       "<style scoped>\n",
       "    .dataframe tbody tr th:only-of-type {\n",
       "        vertical-align: middle;\n",
       "    }\n",
       "\n",
       "    .dataframe tbody tr th {\n",
       "        vertical-align: top;\n",
       "    }\n",
       "\n",
       "    .dataframe thead th {\n",
       "        text-align: right;\n",
       "    }\n",
       "</style>\n",
       "<table border=\"1\" class=\"dataframe\">\n",
       "  <thead>\n",
       "    <tr style=\"text-align: right;\">\n",
       "      <th></th>\n",
       "      <th>Groupon Historical Reported Metrics</th>\n",
       "      <th>Unnamed: 1</th>\n",
       "      <th>Unnamed: 2</th>\n",
       "      <th>Unnamed: 3</th>\n",
       "      <th>Unnamed: 4</th>\n",
       "      <th>Unnamed: 5</th>\n",
       "    </tr>\n",
       "  </thead>\n",
       "  <tbody>\n",
       "    <tr>\n",
       "      <th>0</th>\n",
       "      <td>NaN</td>\n",
       "      <td>NaN</td>\n",
       "      <td>NaN</td>\n",
       "      <td>NaN</td>\n",
       "      <td>NaN</td>\n",
       "      <td>NaN</td>\n",
       "    </tr>\n",
       "    <tr>\n",
       "      <th>1</th>\n",
       "      <td>NaN</td>\n",
       "      <td>Q3 2012</td>\n",
       "      <td>Q4 2012</td>\n",
       "      <td>Q1 2013</td>\n",
       "      <td>Q2 2013</td>\n",
       "      <td>Q3 2013</td>\n",
       "    </tr>\n",
       "    <tr>\n",
       "      <th>2</th>\n",
       "      <td>Gross Billings ($ million)</td>\n",
       "      <td>NaN</td>\n",
       "      <td>NaN</td>\n",
       "      <td>NaN</td>\n",
       "      <td>NaN</td>\n",
       "      <td>NaN</td>\n",
       "    </tr>\n",
       "    <tr>\n",
       "      <th>3</th>\n",
       "      <td>Local</td>\n",
       "      <td>355.743</td>\n",
       "      <td>430.255</td>\n",
       "      <td>450.14</td>\n",
       "      <td>450.463</td>\n",
       "      <td>402.796</td>\n",
       "    </tr>\n",
       "    <tr>\n",
       "      <th>4</th>\n",
       "      <td>Goods</td>\n",
       "      <td>152.116</td>\n",
       "      <td>240.845</td>\n",
       "      <td>165.359</td>\n",
       "      <td>196.878</td>\n",
       "      <td>194.565</td>\n",
       "    </tr>\n",
       "    <tr>\n",
       "      <th>5</th>\n",
       "      <td>Travel</td>\n",
       "      <td>44.51</td>\n",
       "      <td>47.852</td>\n",
       "      <td>65.82</td>\n",
       "      <td>64.864</td>\n",
       "      <td>67.638</td>\n",
       "    </tr>\n",
       "    <tr>\n",
       "      <th>6</th>\n",
       "      <td>Total</td>\n",
       "      <td>552.369</td>\n",
       "      <td>718.952</td>\n",
       "      <td>681.319</td>\n",
       "      <td>712.2</td>\n",
       "      <td>664.999</td>\n",
       "    </tr>\n",
       "    <tr>\n",
       "      <th>7</th>\n",
       "      <td>NaN</td>\n",
       "      <td>NaN</td>\n",
       "      <td>NaN</td>\n",
       "      <td>NaN</td>\n",
       "      <td>NaN</td>\n",
       "      <td>NaN</td>\n",
       "    </tr>\n",
       "    <tr>\n",
       "      <th>8</th>\n",
       "      <td>NaN</td>\n",
       "      <td>NaN</td>\n",
       "      <td>NaN</td>\n",
       "      <td>NaN</td>\n",
       "      <td>NaN</td>\n",
       "      <td>NaN</td>\n",
       "    </tr>\n",
       "    <tr>\n",
       "      <th>9</th>\n",
       "      <td>NaN</td>\n",
       "      <td>Q3 2012</td>\n",
       "      <td>Q4 2012</td>\n",
       "      <td>Q1 2013</td>\n",
       "      <td>Q2 2013</td>\n",
       "      <td>Q3 2013</td>\n",
       "    </tr>\n",
       "    <tr>\n",
       "      <th>10</th>\n",
       "      <td>Gross Profit ($ million)</td>\n",
       "      <td>NaN</td>\n",
       "      <td>NaN</td>\n",
       "      <td>NaN</td>\n",
       "      <td>NaN</td>\n",
       "      <td>NaN</td>\n",
       "    </tr>\n",
       "    <tr>\n",
       "      <th>11</th>\n",
       "      <td>Local</td>\n",
       "      <td>123.036</td>\n",
       "      <td>119.251</td>\n",
       "      <td>145.678</td>\n",
       "      <td>154.356</td>\n",
       "      <td>138.357</td>\n",
       "    </tr>\n",
       "    <tr>\n",
       "      <th>12</th>\n",
       "      <td>Goods</td>\n",
       "      <td>28.068</td>\n",
       "      <td>22.728</td>\n",
       "      <td>12.456</td>\n",
       "      <td>26.977</td>\n",
       "      <td>21.609</td>\n",
       "    </tr>\n",
       "    <tr>\n",
       "      <th>13</th>\n",
       "      <td>Travel</td>\n",
       "      <td>9.464</td>\n",
       "      <td>9.581</td>\n",
       "      <td>14.222</td>\n",
       "      <td>13.253</td>\n",
       "      <td>11.603</td>\n",
       "    </tr>\n",
       "    <tr>\n",
       "      <th>14</th>\n",
       "      <td>Total</td>\n",
       "      <td>160.568</td>\n",
       "      <td>151.56</td>\n",
       "      <td>172.356</td>\n",
       "      <td>194.586</td>\n",
       "      <td>171.569</td>\n",
       "    </tr>\n",
       "  </tbody>\n",
       "</table>\n",
       "</div>"
      ],
      "text/plain": [
       "   Groupon Historical Reported Metrics Unnamed: 1 Unnamed: 2 Unnamed: 3  \\\n",
       "0                                  NaN        NaN        NaN        NaN   \n",
       "1                                  NaN    Q3 2012    Q4 2012    Q1 2013   \n",
       "2           Gross Billings ($ million)        NaN        NaN        NaN   \n",
       "3                                Local    355.743    430.255     450.14   \n",
       "4                                Goods    152.116    240.845    165.359   \n",
       "5                               Travel      44.51     47.852      65.82   \n",
       "6                                Total    552.369    718.952    681.319   \n",
       "7                                  NaN        NaN        NaN        NaN   \n",
       "8                                  NaN        NaN        NaN        NaN   \n",
       "9                                  NaN    Q3 2012    Q4 2012    Q1 2013   \n",
       "10            Gross Profit ($ million)        NaN        NaN        NaN   \n",
       "11                               Local    123.036    119.251    145.678   \n",
       "12                               Goods     28.068     22.728     12.456   \n",
       "13                              Travel      9.464      9.581     14.222   \n",
       "14                               Total    160.568     151.56    172.356   \n",
       "\n",
       "   Unnamed: 4 Unnamed: 5  \n",
       "0         NaN        NaN  \n",
       "1     Q2 2013    Q3 2013  \n",
       "2         NaN        NaN  \n",
       "3     450.463    402.796  \n",
       "4     196.878    194.565  \n",
       "5      64.864     67.638  \n",
       "6       712.2    664.999  \n",
       "7         NaN        NaN  \n",
       "8         NaN        NaN  \n",
       "9     Q2 2013    Q3 2013  \n",
       "10        NaN        NaN  \n",
       "11    154.356    138.357  \n",
       "12     26.977     21.609  \n",
       "13     13.253     11.603  \n",
       "14    194.586    171.569  "
      ]
     },
     "execution_count": 14,
     "metadata": {},
     "output_type": "execute_result"
    }
   ],
   "source": [
    "df3 = pd.read_excel(r'Groupon_North_America_Data_Q4_2013_XLSX.xlsx', sheet_name=2)\n",
    "\n",
    "df3"
   ]
  },
  {
   "cell_type": "markdown",
   "id": "8443ab03",
   "metadata": {},
   "source": [
    "#### Cleaning and reindexing the Groupon historical data sheet and fit it into a dataframe."
   ]
  },
  {
   "cell_type": "code",
   "execution_count": 15,
   "id": "1f5202c3",
   "metadata": {},
   "outputs": [],
   "source": [
    "dfsG = {}\n",
    "dfsG['grossbillings'] = df3.loc[1:6, :'Unnamed: 5'].transpose()\n",
    "dfsG['grossprofit'] = df3.loc[11:14, 'Unnamed: 1':'Unnamed: 5'].transpose()"
   ]
  },
  {
   "cell_type": "code",
   "execution_count": 16,
   "id": "1c20bd10",
   "metadata": {},
   "outputs": [],
   "source": [
    "dfsG['grossbillings'].set_index(1, inplace=True)\n",
    "dfsG['grossbillings'].columns = dfsG['grossbillings'].iloc[0]\n",
    "dfsG['grossbillings'].drop('Gross Billings ($ million)',axis=1, inplace=True)\n",
    "dfsG['grossbillings'] = dfsG['grossbillings'].loc['Q3 2012':]\n",
    "dfsG['grossbillings'] = 1.0e6 * dfsG['grossbillings']"
   ]
  },
  {
   "cell_type": "code",
   "execution_count": 17,
   "id": "71a22b3c",
   "metadata": {},
   "outputs": [],
   "source": [
    "dfsG['grossprofit'].set_index(dfsG['grossbillings'].index, inplace=True)\n",
    "dfsG['grossprofit'].columns = dfsG['grossbillings'].columns\n",
    "dfsG['grossprofit'] = 1.0e6 * dfsG['grossprofit']"
   ]
  },
  {
   "cell_type": "code",
   "execution_count": 18,
   "id": "1518a62d",
   "metadata": {},
   "outputs": [
    {
     "data": {
      "text/html": [
       "<div>\n",
       "<style scoped>\n",
       "    .dataframe tbody tr th:only-of-type {\n",
       "        vertical-align: middle;\n",
       "    }\n",
       "\n",
       "    .dataframe tbody tr th {\n",
       "        vertical-align: top;\n",
       "    }\n",
       "\n",
       "    .dataframe thead th {\n",
       "        text-align: right;\n",
       "    }\n",
       "</style>\n",
       "<table border=\"1\" class=\"dataframe\">\n",
       "  <thead>\n",
       "    <tr style=\"text-align: right;\">\n",
       "      <th>nan</th>\n",
       "      <th>Local</th>\n",
       "      <th>Goods</th>\n",
       "      <th>Travel</th>\n",
       "      <th>Total</th>\n",
       "    </tr>\n",
       "    <tr>\n",
       "      <th>1</th>\n",
       "      <th></th>\n",
       "      <th></th>\n",
       "      <th></th>\n",
       "      <th></th>\n",
       "    </tr>\n",
       "  </thead>\n",
       "  <tbody>\n",
       "    <tr>\n",
       "      <th>Q3 2012</th>\n",
       "      <td>355743000.0</td>\n",
       "      <td>152116000.0</td>\n",
       "      <td>44510000.0</td>\n",
       "      <td>552369000.0</td>\n",
       "    </tr>\n",
       "    <tr>\n",
       "      <th>Q4 2012</th>\n",
       "      <td>430255000.0</td>\n",
       "      <td>240845000.0</td>\n",
       "      <td>47852000.0</td>\n",
       "      <td>718952000.0</td>\n",
       "    </tr>\n",
       "    <tr>\n",
       "      <th>Q1 2013</th>\n",
       "      <td>450140000.0</td>\n",
       "      <td>165359000.0</td>\n",
       "      <td>65820000.0</td>\n",
       "      <td>681319000.0</td>\n",
       "    </tr>\n",
       "    <tr>\n",
       "      <th>Q2 2013</th>\n",
       "      <td>450463000.0</td>\n",
       "      <td>196878000.0</td>\n",
       "      <td>64864000.0</td>\n",
       "      <td>712200000.0</td>\n",
       "    </tr>\n",
       "    <tr>\n",
       "      <th>Q3 2013</th>\n",
       "      <td>402796000.0</td>\n",
       "      <td>194565000.0</td>\n",
       "      <td>67638000.0</td>\n",
       "      <td>664999000.0</td>\n",
       "    </tr>\n",
       "  </tbody>\n",
       "</table>\n",
       "</div>"
      ],
      "text/plain": [
       "nan            Local        Goods      Travel        Total\n",
       "1                                                         \n",
       "Q3 2012  355743000.0  152116000.0  44510000.0  552369000.0\n",
       "Q4 2012  430255000.0  240845000.0  47852000.0  718952000.0\n",
       "Q1 2013  450140000.0  165359000.0  65820000.0  681319000.0\n",
       "Q2 2013  450463000.0  196878000.0  64864000.0  712200000.0\n",
       "Q3 2013  402796000.0  194565000.0  67638000.0  664999000.0"
      ]
     },
     "execution_count": 18,
     "metadata": {},
     "output_type": "execute_result"
    }
   ],
   "source": [
    "dfsG['grossbillings']"
   ]
  },
  {
   "cell_type": "code",
   "execution_count": 19,
   "id": "46cb4a9e",
   "metadata": {},
   "outputs": [
    {
     "data": {
      "text/html": [
       "<div>\n",
       "<style scoped>\n",
       "    .dataframe tbody tr th:only-of-type {\n",
       "        vertical-align: middle;\n",
       "    }\n",
       "\n",
       "    .dataframe tbody tr th {\n",
       "        vertical-align: top;\n",
       "    }\n",
       "\n",
       "    .dataframe thead th {\n",
       "        text-align: right;\n",
       "    }\n",
       "</style>\n",
       "<table border=\"1\" class=\"dataframe\">\n",
       "  <thead>\n",
       "    <tr style=\"text-align: right;\">\n",
       "      <th>nan</th>\n",
       "      <th>Local</th>\n",
       "      <th>Goods</th>\n",
       "      <th>Travel</th>\n",
       "      <th>Total</th>\n",
       "    </tr>\n",
       "    <tr>\n",
       "      <th>1</th>\n",
       "      <th></th>\n",
       "      <th></th>\n",
       "      <th></th>\n",
       "      <th></th>\n",
       "    </tr>\n",
       "  </thead>\n",
       "  <tbody>\n",
       "    <tr>\n",
       "      <th>Q3 2012</th>\n",
       "      <td>123036000.0</td>\n",
       "      <td>28068000.0</td>\n",
       "      <td>9464000.0</td>\n",
       "      <td>160568000.0</td>\n",
       "    </tr>\n",
       "    <tr>\n",
       "      <th>Q4 2012</th>\n",
       "      <td>119251000.0</td>\n",
       "      <td>22728000.0</td>\n",
       "      <td>9581000.0</td>\n",
       "      <td>151560000.0</td>\n",
       "    </tr>\n",
       "    <tr>\n",
       "      <th>Q1 2013</th>\n",
       "      <td>145678000.0</td>\n",
       "      <td>12456000.0</td>\n",
       "      <td>14222000.0</td>\n",
       "      <td>172356000.0</td>\n",
       "    </tr>\n",
       "    <tr>\n",
       "      <th>Q2 2013</th>\n",
       "      <td>154356000.0</td>\n",
       "      <td>26977000.0</td>\n",
       "      <td>13253000.0</td>\n",
       "      <td>194586000.0</td>\n",
       "    </tr>\n",
       "    <tr>\n",
       "      <th>Q3 2013</th>\n",
       "      <td>138357000.0</td>\n",
       "      <td>21609000.0</td>\n",
       "      <td>11603000.0</td>\n",
       "      <td>171569000.0</td>\n",
       "    </tr>\n",
       "  </tbody>\n",
       "</table>\n",
       "</div>"
      ],
      "text/plain": [
       "nan            Local       Goods      Travel        Total\n",
       "1                                                        \n",
       "Q3 2012  123036000.0  28068000.0   9464000.0  160568000.0\n",
       "Q4 2012  119251000.0  22728000.0   9581000.0  151560000.0\n",
       "Q1 2013  145678000.0  12456000.0  14222000.0  172356000.0\n",
       "Q2 2013  154356000.0  26977000.0  13253000.0  194586000.0\n",
       "Q3 2013  138357000.0  21609000.0  11603000.0  171569000.0"
      ]
     },
     "execution_count": 19,
     "metadata": {},
     "output_type": "execute_result"
    }
   ],
   "source": [
    "dfsG['grossprofit']"
   ]
  },
  {
   "cell_type": "markdown",
   "id": "d74b1696",
   "metadata": {},
   "source": [
    "### Load Consensus Sheet"
   ]
  },
  {
   "cell_type": "code",
   "execution_count": 20,
   "id": "e71e47e8",
   "metadata": {},
   "outputs": [
    {
     "data": {
      "text/html": [
       "<div>\n",
       "<style scoped>\n",
       "    .dataframe tbody tr th:only-of-type {\n",
       "        vertical-align: middle;\n",
       "    }\n",
       "\n",
       "    .dataframe tbody tr th {\n",
       "        vertical-align: top;\n",
       "    }\n",
       "\n",
       "    .dataframe thead th {\n",
       "        text-align: right;\n",
       "    }\n",
       "</style>\n",
       "<table border=\"1\" class=\"dataframe\">\n",
       "  <thead>\n",
       "    <tr style=\"text-align: right;\">\n",
       "      <th></th>\n",
       "      <th>Sell-Side Consensus 4Q13 Estimates</th>\n",
       "      <th>Unnamed: 1</th>\n",
       "      <th>Unnamed: 2</th>\n",
       "    </tr>\n",
       "  </thead>\n",
       "  <tbody>\n",
       "    <tr>\n",
       "      <th>0</th>\n",
       "      <td>NaN</td>\n",
       "      <td>NaN</td>\n",
       "      <td>NaN</td>\n",
       "    </tr>\n",
       "    <tr>\n",
       "      <th>1</th>\n",
       "      <td>NaN</td>\n",
       "      <td>NaN</td>\n",
       "      <td>NaN</td>\n",
       "    </tr>\n",
       "    <tr>\n",
       "      <th>2</th>\n",
       "      <td>Consensus ($ million)</td>\n",
       "      <td>Gross Billings</td>\n",
       "      <td>Gross Profit</td>\n",
       "    </tr>\n",
       "    <tr>\n",
       "      <th>3</th>\n",
       "      <td>NaN</td>\n",
       "      <td>NaN</td>\n",
       "      <td>NaN</td>\n",
       "    </tr>\n",
       "    <tr>\n",
       "      <th>4</th>\n",
       "      <td>JP Morgan</td>\n",
       "      <td>NaN</td>\n",
       "      <td>NaN</td>\n",
       "    </tr>\n",
       "    <tr>\n",
       "      <th>5</th>\n",
       "      <td>Local</td>\n",
       "      <td>490.142</td>\n",
       "      <td>146.651</td>\n",
       "    </tr>\n",
       "    <tr>\n",
       "      <th>6</th>\n",
       "      <td>Goods</td>\n",
       "      <td>275.716</td>\n",
       "      <td>31.669</td>\n",
       "    </tr>\n",
       "    <tr>\n",
       "      <th>7</th>\n",
       "      <td>Travel</td>\n",
       "      <td>71.02</td>\n",
       "      <td>13.494</td>\n",
       "    </tr>\n",
       "    <tr>\n",
       "      <th>8</th>\n",
       "      <td>Total</td>\n",
       "      <td>836.88</td>\n",
       "      <td>191.81</td>\n",
       "    </tr>\n",
       "    <tr>\n",
       "      <th>9</th>\n",
       "      <td>NaN</td>\n",
       "      <td>NaN</td>\n",
       "      <td>NaN</td>\n",
       "    </tr>\n",
       "    <tr>\n",
       "      <th>10</th>\n",
       "      <td>Morgan Stanley</td>\n",
       "      <td>NaN</td>\n",
       "      <td>NaN</td>\n",
       "    </tr>\n",
       "    <tr>\n",
       "      <th>11</th>\n",
       "      <td>Local</td>\n",
       "      <td>508</td>\n",
       "      <td>159</td>\n",
       "    </tr>\n",
       "    <tr>\n",
       "      <th>12</th>\n",
       "      <td>Goods</td>\n",
       "      <td>295</td>\n",
       "      <td>27</td>\n",
       "    </tr>\n",
       "    <tr>\n",
       "      <th>13</th>\n",
       "      <td>Travel</td>\n",
       "      <td>67</td>\n",
       "      <td>14</td>\n",
       "    </tr>\n",
       "    <tr>\n",
       "      <th>14</th>\n",
       "      <td>Total</td>\n",
       "      <td>870</td>\n",
       "      <td>200</td>\n",
       "    </tr>\n",
       "    <tr>\n",
       "      <th>15</th>\n",
       "      <td>NaN</td>\n",
       "      <td>NaN</td>\n",
       "      <td>NaN</td>\n",
       "    </tr>\n",
       "    <tr>\n",
       "      <th>16</th>\n",
       "      <td>Deutsche Bank</td>\n",
       "      <td>NaN</td>\n",
       "      <td>NaN</td>\n",
       "    </tr>\n",
       "    <tr>\n",
       "      <th>17</th>\n",
       "      <td>Total</td>\n",
       "      <td>803.2</td>\n",
       "      <td>203.6</td>\n",
       "    </tr>\n",
       "  </tbody>\n",
       "</table>\n",
       "</div>"
      ],
      "text/plain": [
       "   Sell-Side Consensus 4Q13 Estimates      Unnamed: 1    Unnamed: 2\n",
       "0                                 NaN             NaN           NaN\n",
       "1                                 NaN             NaN           NaN\n",
       "2               Consensus ($ million)  Gross Billings  Gross Profit\n",
       "3                                 NaN             NaN           NaN\n",
       "4                           JP Morgan             NaN           NaN\n",
       "5                               Local         490.142       146.651\n",
       "6                               Goods         275.716        31.669\n",
       "7                              Travel           71.02        13.494\n",
       "8                               Total          836.88        191.81\n",
       "9                                 NaN             NaN           NaN\n",
       "10                     Morgan Stanley             NaN           NaN\n",
       "11                              Local             508           159\n",
       "12                              Goods             295            27\n",
       "13                             Travel              67            14\n",
       "14                              Total             870           200\n",
       "15                                NaN             NaN           NaN\n",
       "16                      Deutsche Bank             NaN           NaN\n",
       "17                              Total           803.2         203.6"
      ]
     },
     "execution_count": 20,
     "metadata": {},
     "output_type": "execute_result"
    }
   ],
   "source": [
    "df4 = pd.read_excel(r'Groupon_North_America_Data_Q4_2013_XLSX.xlsx', sheet_name=3)\n",
    "\n",
    "df4"
   ]
  },
  {
   "cell_type": "markdown",
   "id": "57b00d7a",
   "metadata": {},
   "source": [
    "#### Cleaning and reindexing the Consensus sheet and fit it into a dataframe."
   ]
  },
  {
   "cell_type": "code",
   "execution_count": 21,
   "id": "c54f208c",
   "metadata": {},
   "outputs": [],
   "source": [
    "dfsB = {}\n",
    "dfsB['jpm'] = df4.loc[5:8, :'Unnamed: 2']\n",
    "dfsB['jpm'].columns = ['Segment', 'Gross Billings', 'Gross Profit']\n",
    "dfsB['jpm']['bank'] = len(dfsB['jpm']) * ['jpm']\n",
    "\n",
    "dfsB['ms'] = df4.loc[11:14, :'Unnamed: 2']\n",
    "dfsB['ms']['bank'] = len(dfsB['ms']) * ['ms']\n",
    "dfsB['ms'].columns = dfsB['jpm'].columns\n",
    "\n",
    "dfsB['db'] = df4.loc[17:17, :'Unnamed: 2']\n",
    "dfsB['db']['bank'] = len(dfsB['db']) * ['db']\n",
    "dfsB['db'].columns = dfsB['jpm'].columns"
   ]
  },
  {
   "cell_type": "code",
   "execution_count": 22,
   "id": "7edd223e",
   "metadata": {},
   "outputs": [],
   "source": [
    "for b in ['jpm', 'ms', 'db']:\n",
    "    dfsB[b][['Gross Billings', 'Gross Profit']] = 1.0e6 * dfsB[b][['Gross Billings', 'Gross Profit']]"
   ]
  },
  {
   "cell_type": "code",
   "execution_count": 23,
   "id": "da8fa192",
   "metadata": {},
   "outputs": [
    {
     "data": {
      "text/html": [
       "<div>\n",
       "<style scoped>\n",
       "    .dataframe tbody tr th:only-of-type {\n",
       "        vertical-align: middle;\n",
       "    }\n",
       "\n",
       "    .dataframe tbody tr th {\n",
       "        vertical-align: top;\n",
       "    }\n",
       "\n",
       "    .dataframe thead th {\n",
       "        text-align: right;\n",
       "    }\n",
       "</style>\n",
       "<table border=\"1\" class=\"dataframe\">\n",
       "  <thead>\n",
       "    <tr style=\"text-align: right;\">\n",
       "      <th></th>\n",
       "      <th>Segment</th>\n",
       "      <th>Gross Billings</th>\n",
       "      <th>Gross Profit</th>\n",
       "      <th>bank</th>\n",
       "    </tr>\n",
       "  </thead>\n",
       "  <tbody>\n",
       "    <tr>\n",
       "      <th>5</th>\n",
       "      <td>Local</td>\n",
       "      <td>490142000.0</td>\n",
       "      <td>146651000.0</td>\n",
       "      <td>jpm</td>\n",
       "    </tr>\n",
       "    <tr>\n",
       "      <th>6</th>\n",
       "      <td>Goods</td>\n",
       "      <td>275716000.0</td>\n",
       "      <td>31669000.0</td>\n",
       "      <td>jpm</td>\n",
       "    </tr>\n",
       "    <tr>\n",
       "      <th>7</th>\n",
       "      <td>Travel</td>\n",
       "      <td>71020000.0</td>\n",
       "      <td>13494000.0</td>\n",
       "      <td>jpm</td>\n",
       "    </tr>\n",
       "    <tr>\n",
       "      <th>8</th>\n",
       "      <td>Total</td>\n",
       "      <td>836880000.0</td>\n",
       "      <td>191810000.0</td>\n",
       "      <td>jpm</td>\n",
       "    </tr>\n",
       "    <tr>\n",
       "      <th>11</th>\n",
       "      <td>Local</td>\n",
       "      <td>508000000.0</td>\n",
       "      <td>159000000.0</td>\n",
       "      <td>ms</td>\n",
       "    </tr>\n",
       "    <tr>\n",
       "      <th>12</th>\n",
       "      <td>Goods</td>\n",
       "      <td>295000000.0</td>\n",
       "      <td>27000000.0</td>\n",
       "      <td>ms</td>\n",
       "    </tr>\n",
       "    <tr>\n",
       "      <th>13</th>\n",
       "      <td>Travel</td>\n",
       "      <td>67000000.0</td>\n",
       "      <td>14000000.0</td>\n",
       "      <td>ms</td>\n",
       "    </tr>\n",
       "    <tr>\n",
       "      <th>14</th>\n",
       "      <td>Total</td>\n",
       "      <td>870000000.0</td>\n",
       "      <td>200000000.0</td>\n",
       "      <td>ms</td>\n",
       "    </tr>\n",
       "    <tr>\n",
       "      <th>17</th>\n",
       "      <td>Total</td>\n",
       "      <td>803200000.0</td>\n",
       "      <td>203600000.0</td>\n",
       "      <td>db</td>\n",
       "    </tr>\n",
       "  </tbody>\n",
       "</table>\n",
       "</div>"
      ],
      "text/plain": [
       "   Segment Gross Billings Gross Profit bank\n",
       "5    Local    490142000.0  146651000.0  jpm\n",
       "6    Goods    275716000.0   31669000.0  jpm\n",
       "7   Travel     71020000.0   13494000.0  jpm\n",
       "8    Total    836880000.0  191810000.0  jpm\n",
       "11   Local    508000000.0  159000000.0   ms\n",
       "12   Goods    295000000.0   27000000.0   ms\n",
       "13  Travel     67000000.0   14000000.0   ms\n",
       "14   Total    870000000.0  200000000.0   ms\n",
       "17   Total    803200000.0  203600000.0   db"
      ]
     },
     "execution_count": 23,
     "metadata": {},
     "output_type": "execute_result"
    }
   ],
   "source": [
    "# concatenate all in a single dataframe\n",
    "dfB = pd.concat(dfsB.values())\n",
    "\n",
    "dfB"
   ]
  },
  {
   "cell_type": "markdown",
   "id": "aaf4a303",
   "metadata": {},
   "source": [
    "# Data Quality Assurance"
   ]
  },
  {
   "cell_type": "markdown",
   "id": "049593f8",
   "metadata": {},
   "source": [
    "### Data Cleaning"
   ]
  },
  {
   "cell_type": "markdown",
   "id": "18020e58",
   "metadata": {},
   "source": [
    "#### Check for basic data irregularities such as NULL values, duplicate entry, missing data, and 0 values while ignoring the known missing data from Oct 20-Oct 30 from Local Segment"
   ]
  },
  {
   "cell_type": "code",
   "execution_count": 24,
   "id": "39fd6de1",
   "metadata": {},
   "outputs": [
    {
     "name": "stdout",
     "output_type": "stream",
     "text": [
      "<class 'pandas.core.frame.DataFrame'>\n",
      "RangeIndex: 138534 entries, 0 to 138533\n",
      "Data columns (total 6 columns):\n",
      " #   Column          Non-Null Count   Dtype         \n",
      "---  ------          --------------   -----         \n",
      " 0   Deal ID         138534 non-null  object        \n",
      " 1   Units Sold      138534 non-null  float64       \n",
      " 2   Gross Billings  138534 non-null  float64       \n",
      " 3   Start Date      138534 non-null  datetime64[ns]\n",
      " 4   Deal URL        138534 non-null  object        \n",
      " 5   Segment         138534 non-null  object        \n",
      "dtypes: datetime64[ns](1), float64(2), object(3)\n",
      "memory usage: 6.3+ MB\n"
     ]
    }
   ],
   "source": [
    "df.info() "
   ]
  },
  {
   "cell_type": "markdown",
   "id": "e13e595c",
   "metadata": {},
   "source": [
    "There are no null values shown above by obtaining the dataframe info. However, I will do an extra check."
   ]
  },
  {
   "cell_type": "code",
   "execution_count": 25,
   "id": "862330b0",
   "metadata": {},
   "outputs": [
    {
     "data": {
      "text/plain": [
       "Deal ID           0\n",
       "Units Sold        0\n",
       "Gross Billings    0\n",
       "Start Date        0\n",
       "Deal URL          0\n",
       "Segment           0\n",
       "dtype: int64"
      ]
     },
     "execution_count": 25,
     "metadata": {},
     "output_type": "execute_result"
    }
   ],
   "source": [
    "df.isnull().sum()"
   ]
  },
  {
   "cell_type": "markdown",
   "id": "5588ffad",
   "metadata": {},
   "source": [
    "Check for data with values == 0. "
   ]
  },
  {
   "cell_type": "code",
   "execution_count": 26,
   "id": "8bc7e134",
   "metadata": {},
   "outputs": [
    {
     "data": {
      "text/html": [
       "<div>\n",
       "<style scoped>\n",
       "    .dataframe tbody tr th:only-of-type {\n",
       "        vertical-align: middle;\n",
       "    }\n",
       "\n",
       "    .dataframe tbody tr th {\n",
       "        vertical-align: top;\n",
       "    }\n",
       "\n",
       "    .dataframe thead th {\n",
       "        text-align: right;\n",
       "    }\n",
       "</style>\n",
       "<table border=\"1\" class=\"dataframe\">\n",
       "  <thead>\n",
       "    <tr style=\"text-align: right;\">\n",
       "      <th></th>\n",
       "      <th>Deal ID</th>\n",
       "      <th>Units Sold</th>\n",
       "      <th>Gross Billings</th>\n",
       "      <th>Start Date</th>\n",
       "      <th>Deal URL</th>\n",
       "      <th>Segment</th>\n",
       "    </tr>\n",
       "  </thead>\n",
       "  <tbody>\n",
       "  </tbody>\n",
       "</table>\n",
       "</div>"
      ],
      "text/plain": [
       "Empty DataFrame\n",
       "Columns: [Deal ID, Units Sold, Gross Billings, Start Date, Deal URL, Segment]\n",
       "Index: []"
      ]
     },
     "execution_count": 26,
     "metadata": {},
     "output_type": "execute_result"
    }
   ],
   "source": [
    "df.loc[((df['Units Sold']) == 0) & ((df['Gross Billings']) != 0)]"
   ]
  },
  {
   "cell_type": "code",
   "execution_count": 27,
   "id": "ed0ef068",
   "metadata": {},
   "outputs": [
    {
     "data": {
      "text/html": [
       "<div>\n",
       "<style scoped>\n",
       "    .dataframe tbody tr th:only-of-type {\n",
       "        vertical-align: middle;\n",
       "    }\n",
       "\n",
       "    .dataframe tbody tr th {\n",
       "        vertical-align: top;\n",
       "    }\n",
       "\n",
       "    .dataframe thead th {\n",
       "        text-align: right;\n",
       "    }\n",
       "</style>\n",
       "<table border=\"1\" class=\"dataframe\">\n",
       "  <thead>\n",
       "    <tr style=\"text-align: right;\">\n",
       "      <th></th>\n",
       "      <th>Deal ID</th>\n",
       "      <th>Units Sold</th>\n",
       "      <th>Gross Billings</th>\n",
       "      <th>Start Date</th>\n",
       "      <th>Deal URL</th>\n",
       "      <th>Segment</th>\n",
       "    </tr>\n",
       "  </thead>\n",
       "  <tbody>\n",
       "  </tbody>\n",
       "</table>\n",
       "</div>"
      ],
      "text/plain": [
       "Empty DataFrame\n",
       "Columns: [Deal ID, Units Sold, Gross Billings, Start Date, Deal URL, Segment]\n",
       "Index: []"
      ]
     },
     "execution_count": 27,
     "metadata": {},
     "output_type": "execute_result"
    }
   ],
   "source": [
    "df.loc[((df['Units Sold']) > 0) & ((df['Gross Billings']) <= 0)]"
   ]
  },
  {
   "cell_type": "code",
   "execution_count": 28,
   "id": "0c4cda7f",
   "metadata": {},
   "outputs": [
    {
     "data": {
      "text/html": [
       "<div>\n",
       "<style scoped>\n",
       "    .dataframe tbody tr th:only-of-type {\n",
       "        vertical-align: middle;\n",
       "    }\n",
       "\n",
       "    .dataframe tbody tr th {\n",
       "        vertical-align: top;\n",
       "    }\n",
       "\n",
       "    .dataframe thead th {\n",
       "        text-align: right;\n",
       "    }\n",
       "</style>\n",
       "<table border=\"1\" class=\"dataframe\">\n",
       "  <thead>\n",
       "    <tr style=\"text-align: right;\">\n",
       "      <th></th>\n",
       "      <th>Deal ID</th>\n",
       "      <th>Units Sold</th>\n",
       "      <th>Gross Billings</th>\n",
       "      <th>Start Date</th>\n",
       "      <th>Deal URL</th>\n",
       "      <th>Segment</th>\n",
       "    </tr>\n",
       "  </thead>\n",
       "  <tbody>\n",
       "  </tbody>\n",
       "</table>\n",
       "</div>"
      ],
      "text/plain": [
       "Empty DataFrame\n",
       "Columns: [Deal ID, Units Sold, Gross Billings, Start Date, Deal URL, Segment]\n",
       "Index: []"
      ]
     },
     "execution_count": 28,
     "metadata": {},
     "output_type": "execute_result"
    }
   ],
   "source": [
    "df.loc[((df['Units Sold']) < 0) & ((df['Gross Billings']) >= 0)]"
   ]
  },
  {
   "cell_type": "markdown",
   "id": "685ae66a",
   "metadata": {},
   "source": [
    "Check if there is data with duplicated entry."
   ]
  },
  {
   "cell_type": "code",
   "execution_count": 29,
   "id": "259a9412",
   "metadata": {},
   "outputs": [
    {
     "data": {
      "text/plain": [
       "0"
      ]
     },
     "execution_count": 29,
     "metadata": {},
     "output_type": "execute_result"
    }
   ],
   "source": [
    "df.duplicated().sum() \n",
    "\n",
    "#There is no duplicated data in the dataframe"
   ]
  },
  {
   "cell_type": "markdown",
   "id": "5f8dee0d",
   "metadata": {},
   "source": [
    "#### Identify data containing rounding errors"
   ]
  },
  {
   "cell_type": "code",
   "execution_count": 30,
   "id": "b114d10e",
   "metadata": {},
   "outputs": [
    {
     "data": {
      "text/html": [
       "<div>\n",
       "<style scoped>\n",
       "    .dataframe tbody tr th:only-of-type {\n",
       "        vertical-align: middle;\n",
       "    }\n",
       "\n",
       "    .dataframe tbody tr th {\n",
       "        vertical-align: top;\n",
       "    }\n",
       "\n",
       "    .dataframe thead th {\n",
       "        text-align: right;\n",
       "    }\n",
       "</style>\n",
       "<table border=\"1\" class=\"dataframe\">\n",
       "  <thead>\n",
       "    <tr style=\"text-align: right;\">\n",
       "      <th></th>\n",
       "      <th>Deal ID</th>\n",
       "      <th>Units Sold</th>\n",
       "      <th>Gross Billings</th>\n",
       "      <th>Start Date</th>\n",
       "      <th>Deal URL</th>\n",
       "      <th>Segment</th>\n",
       "    </tr>\n",
       "  </thead>\n",
       "  <tbody>\n",
       "    <tr>\n",
       "      <th>107</th>\n",
       "      <td>gorgeous-skin-spa</td>\n",
       "      <td>2.842171e-14</td>\n",
       "      <td>1.932676e-12</td>\n",
       "      <td>2012-09-16</td>\n",
       "      <td>http://www.groupon.com/deals/gorgeous-skin-spa</td>\n",
       "      <td>Local</td>\n",
       "    </tr>\n",
       "    <tr>\n",
       "      <th>299</th>\n",
       "      <td>burlingame-aquatic-club-2</td>\n",
       "      <td>1.421085e-14</td>\n",
       "      <td>6.821210e-13</td>\n",
       "      <td>2012-09-27</td>\n",
       "      <td>http://www.groupon.com/deals/burlingame-aquati...</td>\n",
       "      <td>Local</td>\n",
       "    </tr>\n",
       "    <tr>\n",
       "      <th>307</th>\n",
       "      <td>vo2-max-boot-camp</td>\n",
       "      <td>2.842171e-14</td>\n",
       "      <td>1.818989e-12</td>\n",
       "      <td>2012-09-28</td>\n",
       "      <td>http://www.groupon.com/deals/vo2-max-boot-camp</td>\n",
       "      <td>Local</td>\n",
       "    </tr>\n",
       "    <tr>\n",
       "      <th>437</th>\n",
       "      <td>j-herndon-photography-1</td>\n",
       "      <td>5.684342e-14</td>\n",
       "      <td>4.206413e-12</td>\n",
       "      <td>2012-10-02</td>\n",
       "      <td>http://www.groupon.com/deals/j-herndon-photogr...</td>\n",
       "      <td>Local</td>\n",
       "    </tr>\n",
       "    <tr>\n",
       "      <th>527</th>\n",
       "      <td>kugo-steakhouse-sushi-bar</td>\n",
       "      <td>-2.842171e-14</td>\n",
       "      <td>-5.400125e-13</td>\n",
       "      <td>2012-10-05</td>\n",
       "      <td>http://www.groupon.com/deals/kugo-steakhouse-s...</td>\n",
       "      <td>Local</td>\n",
       "    </tr>\n",
       "    <tr>\n",
       "      <th>...</th>\n",
       "      <td>...</td>\n",
       "      <td>...</td>\n",
       "      <td>...</td>\n",
       "      <td>...</td>\n",
       "      <td>...</td>\n",
       "      <td>...</td>\n",
       "    </tr>\n",
       "    <tr>\n",
       "      <th>91940</th>\n",
       "      <td>dream-body-8</td>\n",
       "      <td>3.552714e-15</td>\n",
       "      <td>2.415845e-13</td>\n",
       "      <td>2013-04-05</td>\n",
       "      <td>http://www.groupon.com/deals/dream-body-8</td>\n",
       "      <td>Local</td>\n",
       "    </tr>\n",
       "    <tr>\n",
       "      <th>100338</th>\n",
       "      <td>motion-picture-hairstyling</td>\n",
       "      <td>6.217249e-15</td>\n",
       "      <td>3.836931e-13</td>\n",
       "      <td>2013-08-03</td>\n",
       "      <td>http://www.groupon.com/deals/motion-picture-ha...</td>\n",
       "      <td>Local</td>\n",
       "    </tr>\n",
       "    <tr>\n",
       "      <th>101661</th>\n",
       "      <td>overground-tattoo-2</td>\n",
       "      <td>-3.108624e-15</td>\n",
       "      <td>-2.273737e-13</td>\n",
       "      <td>2013-04-12</td>\n",
       "      <td>http://www.groupon.com/deals/overground-tattoo-2</td>\n",
       "      <td>Local</td>\n",
       "    </tr>\n",
       "    <tr>\n",
       "      <th>102994</th>\n",
       "      <td>queen-hair-salon</td>\n",
       "      <td>4.440892e-15</td>\n",
       "      <td>2.842171e-13</td>\n",
       "      <td>2013-02-07</td>\n",
       "      <td>http://www.groupon.com/deals/queen-hair-salon</td>\n",
       "      <td>Local</td>\n",
       "    </tr>\n",
       "    <tr>\n",
       "      <th>105340</th>\n",
       "      <td>spear-tip-tactics</td>\n",
       "      <td>2.664535e-15</td>\n",
       "      <td>1.278977e-13</td>\n",
       "      <td>2012-12-11</td>\n",
       "      <td>http://www.groupon.com/deals/spear-tip-tactics</td>\n",
       "      <td>Local</td>\n",
       "    </tr>\n",
       "  </tbody>\n",
       "</table>\n",
       "<p>206 rows × 6 columns</p>\n",
       "</div>"
      ],
      "text/plain": [
       "                           Deal ID    Units Sold  Gross Billings Start Date  \\\n",
       "107              gorgeous-skin-spa  2.842171e-14    1.932676e-12 2012-09-16   \n",
       "299      burlingame-aquatic-club-2  1.421085e-14    6.821210e-13 2012-09-27   \n",
       "307              vo2-max-boot-camp  2.842171e-14    1.818989e-12 2012-09-28   \n",
       "437        j-herndon-photography-1  5.684342e-14    4.206413e-12 2012-10-02   \n",
       "527      kugo-steakhouse-sushi-bar -2.842171e-14   -5.400125e-13 2012-10-05   \n",
       "...                            ...           ...             ...        ...   \n",
       "91940                 dream-body-8  3.552714e-15    2.415845e-13 2013-04-05   \n",
       "100338  motion-picture-hairstyling  6.217249e-15    3.836931e-13 2013-08-03   \n",
       "101661         overground-tattoo-2 -3.108624e-15   -2.273737e-13 2013-04-12   \n",
       "102994            queen-hair-salon  4.440892e-15    2.842171e-13 2013-02-07   \n",
       "105340           spear-tip-tactics  2.664535e-15    1.278977e-13 2012-12-11   \n",
       "\n",
       "                                                 Deal URL Segment  \n",
       "107        http://www.groupon.com/deals/gorgeous-skin-spa   Local  \n",
       "299     http://www.groupon.com/deals/burlingame-aquati...   Local  \n",
       "307        http://www.groupon.com/deals/vo2-max-boot-camp   Local  \n",
       "437     http://www.groupon.com/deals/j-herndon-photogr...   Local  \n",
       "527     http://www.groupon.com/deals/kugo-steakhouse-s...   Local  \n",
       "...                                                   ...     ...  \n",
       "91940           http://www.groupon.com/deals/dream-body-8   Local  \n",
       "100338  http://www.groupon.com/deals/motion-picture-ha...   Local  \n",
       "101661   http://www.groupon.com/deals/overground-tattoo-2   Local  \n",
       "102994      http://www.groupon.com/deals/queen-hair-salon   Local  \n",
       "105340     http://www.groupon.com/deals/spear-tip-tactics   Local  \n",
       "\n",
       "[206 rows x 6 columns]"
      ]
     },
     "execution_count": 30,
     "metadata": {},
     "output_type": "execute_result"
    }
   ],
   "source": [
    "# Check for rounding errors in both units sold and gross billings columns\n",
    "df.loc[(abs(df['Gross Billings']) < 1e-10) & (abs(df['Units Sold']) < 1e-10) & (df['Gross Billings']!=0) & (df['Units Sold']!=0)]"
   ]
  },
  {
   "cell_type": "code",
   "execution_count": 31,
   "id": "84db3278",
   "metadata": {},
   "outputs": [],
   "source": [
    "# Replace values with rounding errors to zero\n",
    "df.loc[(abs(df['Gross Billings']) < 1e-10) & (abs(df['Units Sold']) < 1e-10), 'Gross Billings'] = 0.0\n",
    "df.loc[(abs(df['Gross Billings']) < 1e-10) & (abs(df['Units Sold']) < 1e-10), 'Units Sold'] = 0.0"
   ]
  },
  {
   "cell_type": "code",
   "execution_count": 32,
   "id": "b49c2241",
   "metadata": {},
   "outputs": [
    {
     "data": {
      "text/html": [
       "<div>\n",
       "<style scoped>\n",
       "    .dataframe tbody tr th:only-of-type {\n",
       "        vertical-align: middle;\n",
       "    }\n",
       "\n",
       "    .dataframe tbody tr th {\n",
       "        vertical-align: top;\n",
       "    }\n",
       "\n",
       "    .dataframe thead th {\n",
       "        text-align: right;\n",
       "    }\n",
       "</style>\n",
       "<table border=\"1\" class=\"dataframe\">\n",
       "  <thead>\n",
       "    <tr style=\"text-align: right;\">\n",
       "      <th></th>\n",
       "      <th>Deal ID</th>\n",
       "      <th>Units Sold</th>\n",
       "      <th>Gross Billings</th>\n",
       "      <th>Start Date</th>\n",
       "      <th>Deal URL</th>\n",
       "      <th>Segment</th>\n",
       "    </tr>\n",
       "  </thead>\n",
       "  <tbody>\n",
       "  </tbody>\n",
       "</table>\n",
       "</div>"
      ],
      "text/plain": [
       "Empty DataFrame\n",
       "Columns: [Deal ID, Units Sold, Gross Billings, Start Date, Deal URL, Segment]\n",
       "Index: []"
      ]
     },
     "execution_count": 32,
     "metadata": {},
     "output_type": "execute_result"
    }
   ],
   "source": [
    "# Reconfirm that there are no more rounding errors\n",
    "df.loc[(abs(df['Gross Billings']) < 1e-10) & (abs(df['Units Sold']) < 1e-10) & (df['Units Sold'] != 0)]"
   ]
  },
  {
   "cell_type": "code",
   "execution_count": 33,
   "id": "1e138f07",
   "metadata": {},
   "outputs": [],
   "source": [
    "# Setting parameters to identify anomalies where gross bilings look normal, but units sold is a rounding error\n",
    "df['anomaly'] = (abs(df['Gross Billings']) > 1e-10) & (abs(df['Units Sold']) < 1e-10)"
   ]
  },
  {
   "cell_type": "code",
   "execution_count": 34,
   "id": "db83163a",
   "metadata": {},
   "outputs": [
    {
     "data": {
      "text/plain": [
       "5408.849999999993"
      ]
     },
     "execution_count": 34,
     "metadata": {},
     "output_type": "execute_result"
    }
   ],
   "source": [
    "# Calculating the gross billings from the anomalies\n",
    "df[df.anomaly == True].sort_values('Gross Billings').sum(numeric_only=True)['Gross Billings']"
   ]
  },
  {
   "cell_type": "markdown",
   "id": "37053850",
   "metadata": {},
   "source": [
    "Gross billings in all rows where units sold is close to 0, but gross billings is larger than 1e-10, are estimated to add up to a total of $5,408.9. I will decide if this value is considered significant later on when I compare it to the Q4 2013 gross billings estimate."
   ]
  },
  {
   "cell_type": "code",
   "execution_count": 35,
   "id": "2f622051",
   "metadata": {},
   "outputs": [
    {
     "data": {
      "text/html": [
       "<div>\n",
       "<style scoped>\n",
       "    .dataframe tbody tr th:only-of-type {\n",
       "        vertical-align: middle;\n",
       "    }\n",
       "\n",
       "    .dataframe tbody tr th {\n",
       "        vertical-align: top;\n",
       "    }\n",
       "\n",
       "    .dataframe thead th {\n",
       "        text-align: right;\n",
       "    }\n",
       "</style>\n",
       "<table border=\"1\" class=\"dataframe\">\n",
       "  <thead>\n",
       "    <tr style=\"text-align: right;\">\n",
       "      <th></th>\n",
       "      <th>Deal ID</th>\n",
       "      <th>Units Sold</th>\n",
       "      <th>Gross Billings</th>\n",
       "      <th>Start Date</th>\n",
       "      <th>Deal URL</th>\n",
       "      <th>Segment</th>\n",
       "      <th>anomaly</th>\n",
       "    </tr>\n",
       "  </thead>\n",
       "  <tbody>\n",
       "  </tbody>\n",
       "</table>\n",
       "</div>"
      ],
      "text/plain": [
       "Empty DataFrame\n",
       "Columns: [Deal ID, Units Sold, Gross Billings, Start Date, Deal URL, Segment, anomaly]\n",
       "Index: []"
      ]
     },
     "execution_count": 35,
     "metadata": {},
     "output_type": "execute_result"
    }
   ],
   "source": [
    "# Check if there is any condition where gross billings are rounding error, but units sold seemed normal\n",
    "df.loc[(abs(df['Gross Billings']) < 1e-10) & (abs(df['Units Sold']) > 1e-10)]"
   ]
  },
  {
   "cell_type": "code",
   "execution_count": 36,
   "id": "8c121fe4",
   "metadata": {},
   "outputs": [
    {
     "data": {
      "text/html": [
       "<div>\n",
       "<style scoped>\n",
       "    .dataframe tbody tr th:only-of-type {\n",
       "        vertical-align: middle;\n",
       "    }\n",
       "\n",
       "    .dataframe tbody tr th {\n",
       "        vertical-align: top;\n",
       "    }\n",
       "\n",
       "    .dataframe thead th {\n",
       "        text-align: right;\n",
       "    }\n",
       "</style>\n",
       "<table border=\"1\" class=\"dataframe\">\n",
       "  <thead>\n",
       "    <tr style=\"text-align: right;\">\n",
       "      <th></th>\n",
       "      <th>Deal ID</th>\n",
       "      <th>Units Sold</th>\n",
       "      <th>Gross Billings</th>\n",
       "      <th>Start Date</th>\n",
       "      <th>Deal URL</th>\n",
       "      <th>Segment</th>\n",
       "      <th>anomaly</th>\n",
       "    </tr>\n",
       "  </thead>\n",
       "  <tbody>\n",
       "    <tr>\n",
       "      <th>15565</th>\n",
       "      <td>icon-parking-23-long-island-westchester-county</td>\n",
       "      <td>-2.20</td>\n",
       "      <td>-218062.901</td>\n",
       "      <td>2013-04-22</td>\n",
       "      <td>http://www.groupon.com/deals/icon-parking-23-l...</td>\n",
       "      <td>Local</td>\n",
       "      <td>False</td>\n",
       "    </tr>\n",
       "    <tr>\n",
       "      <th>15567</th>\n",
       "      <td>icon-parking-23-long-island</td>\n",
       "      <td>-3.65</td>\n",
       "      <td>-140086.263</td>\n",
       "      <td>2013-04-22</td>\n",
       "      <td>http://www.groupon.com/deals/icon-parking-23-l...</td>\n",
       "      <td>Local</td>\n",
       "      <td>False</td>\n",
       "    </tr>\n",
       "  </tbody>\n",
       "</table>\n",
       "</div>"
      ],
      "text/plain": [
       "                                              Deal ID  Units Sold  \\\n",
       "15565  icon-parking-23-long-island-westchester-county       -2.20   \n",
       "15567                     icon-parking-23-long-island       -3.65   \n",
       "\n",
       "       Gross Billings Start Date  \\\n",
       "15565     -218062.901 2013-04-22   \n",
       "15567     -140086.263 2013-04-22   \n",
       "\n",
       "                                                Deal URL Segment  anomaly  \n",
       "15565  http://www.groupon.com/deals/icon-parking-23-l...   Local    False  \n",
       "15567  http://www.groupon.com/deals/icon-parking-23-l...   Local    False  "
      ]
     },
     "execution_count": 36,
     "metadata": {},
     "output_type": "execute_result"
    }
   ],
   "source": [
    "# Identify the accuracy of price per deal, and it is found that there are two deals that are priced very high for the type.\n",
    "# Cross checked the data with the price on URL, and the prices are significantly different.\n",
    "df[((df['Gross Billings'] / df['Units Sold']) > 2e4) & (df.anomaly == False)]"
   ]
  },
  {
   "cell_type": "code",
   "execution_count": 37,
   "id": "3de58435",
   "metadata": {},
   "outputs": [
    {
     "data": {
      "text/plain": [
       "-358149.1639999999"
      ]
     },
     "execution_count": 37,
     "metadata": {},
     "output_type": "execute_result"
    }
   ],
   "source": [
    "# Calculate the gross billings from the anomalies based on ratio\n",
    "df[((df['Gross Billings'] / df['Units Sold']) > 2e4) & (df.anomaly == False)].sum(numeric_only=True)['Gross Billings']"
   ]
  },
  {
   "cell_type": "markdown",
   "id": "54977c53",
   "metadata": {},
   "source": [
    "Should pay attention to the amount of gross billings for 2 deals mentioned above. The price per-deal for the parking deal is very high (see ratio), and when getting cross checked with the actual link specified above, the price of parkings are significantly higher than what is stated on the website. Both deals have a total gross billings of $-358,149.16 for Q4 2013."
   ]
  },
  {
   "cell_type": "markdown",
   "id": "338db63d",
   "metadata": {},
   "source": [
    "#### Separate Q4 2013 Raw Data by Segment"
   ]
  },
  {
   "cell_type": "code",
   "execution_count": 38,
   "id": "be2b3d95",
   "metadata": {},
   "outputs": [
    {
     "data": {
      "text/plain": [
       "(120576, 15234, 2724)"
      ]
     },
     "execution_count": 38,
     "metadata": {},
     "output_type": "execute_result"
    }
   ],
   "source": [
    "dfLocal = df[df['Segment'] == 'Local'];\n",
    "dfGoods = df[df['Segment'] == 'Goods'];\n",
    "dfTravel = df[df['Segment'] == 'Travel'];\n",
    "\n",
    "segments = ['Local', 'Goods', 'Travel']\n",
    "dfs = {}\n",
    "dfs['Local'] = dfLocal\n",
    "dfs['Goods'] = dfGoods\n",
    "dfs['Travel'] = dfTravel\n",
    "\n",
    "len(dfLocal), len(dfGoods), len(dfTravel)"
   ]
  },
  {
   "cell_type": "markdown",
   "id": "2f76286f",
   "metadata": {},
   "source": [
    "### Check for additional missing data in addition to the known outage in the Local segment"
   ]
  },
  {
   "cell_type": "markdown",
   "id": "4c7302e4",
   "metadata": {},
   "source": [
    "#### Check whether the deals are occuring consecutively or not for each segment."
   ]
  },
  {
   "cell_type": "code",
   "execution_count": 39,
   "id": "4317297b",
   "metadata": {},
   "outputs": [
    {
     "data": {
      "text/plain": [
       "Text(0, 0.5, 'Date Difference')"
      ]
     },
     "execution_count": 39,
     "metadata": {},
     "output_type": "execute_result"
    },
    {
     "data": {
      "image/png": "[encoded data removed]",
      "text/plain": [
       "<Figure size 432x288 with 1 Axes>"
      ]
     },
     "metadata": {
      "needs_background": "light"
     },
     "output_type": "display_data"
    }
   ],
   "source": [
    "plt.plot([t.days for t in dfLocal.sort_values(by='Start Date')['Start Date'].diff()], \".\")\n",
    "plt.ylim([0, 25])\n",
    "\n",
    "plt.ylabel(\"Date Difference\")"
   ]
  },
  {
   "cell_type": "code",
   "execution_count": 40,
   "id": "bac2d5dd",
   "metadata": {},
   "outputs": [
    {
     "data": {
      "text/plain": [
       "Text(0, 0.5, 'Date Difference')"
      ]
     },
     "execution_count": 40,
     "metadata": {},
     "output_type": "execute_result"
    },
    {
     "data": {
      "image/png": "[encoded data removed]",
      "text/plain": [
       "<Figure size 432x288 with 1 Axes>"
      ]
     },
     "metadata": {
      "needs_background": "light"
     },
     "output_type": "display_data"
    }
   ],
   "source": [
    "plt.plot([t.days for t in dfGoods.sort_values(by='Start Date')['Start Date'].diff()[0:]], \".\")\n",
    "plt.ylim([0, 20])\n",
    "\n",
    "plt.ylabel(\"Date Difference\")"
   ]
  },
  {
   "cell_type": "code",
   "execution_count": 41,
   "id": "4fc19e19",
   "metadata": {},
   "outputs": [
    {
     "data": {
      "text/plain": [
       "Text(0, 0.5, 'Date Difference')"
      ]
     },
     "execution_count": 41,
     "metadata": {},
     "output_type": "execute_result"
    },
    {
     "data": {
      "image/png": "[encoded data removed]",
      "text/plain": [
       "<Figure size 432x288 with 1 Axes>"
      ]
     },
     "metadata": {
      "needs_background": "light"
     },
     "output_type": "display_data"
    }
   ],
   "source": [
    "plt.plot([t.days for t in dfTravel.sort_values(by='Start Date')['Start Date'].diff()[0:]], \".\")\n",
    "\n",
    "plt.ylabel(\"Date Difference\")"
   ]
  },
  {
   "cell_type": "markdown",
   "id": "2b1a5b16",
   "metadata": {},
   "source": [
    "### Plotting trends"
   ]
  },
  {
   "cell_type": "code",
   "execution_count": 42,
   "id": "e0e1a0ef",
   "metadata": {},
   "outputs": [],
   "source": [
    "dfsC = {}  # new dict of dataframes grouped by day + count\n",
    "for key, d in dfs.items():\n",
    "    dfLoop = d.groupby('Start Date').sum()  # sum per day\n",
    "    dfLoop['dealcount'] = d.groupby('Start Date')['Deal ID'].count()  # add daily count\n",
    "    idx = pd.date_range(min(d['Start Date']), max(d['Start Date']))  # date range with all days\n",
    "    dfsC[key] = dfLoop.reindex(idx, fill_value=0.)  # reindex to have all days, including those without deals\n",
    "    dfsC[key]['added'] = np.zeros(len(dfsC[key])).astype('bool')  # add a column for whether is real data or added "
   ]
  },
  {
   "cell_type": "code",
   "execution_count": 43,
   "id": "82f2a6e4",
   "metadata": {},
   "outputs": [
    {
     "data": {
      "text/plain": [
       "(15949.0, 16070.0)"
      ]
     },
     "execution_count": 43,
     "metadata": {},
     "output_type": "execute_result"
    },
    {
     "data": {
      "image/png": "[encoded data removed]",
      "text/plain": [
       "<Figure size 432x288 with 2 Axes>"
      ]
     },
     "metadata": {
      "needs_background": "light"
     },
     "output_type": "display_data"
    }
   ],
   "source": [
    "# Plot the zoomed version from early September towards the end of December\n",
    "df.groupby(by=['Start Date']).sum().plot(None, ['Gross Billings', 'Units Sold'], subplots=True, sharex=True)\n",
    "\n",
    "plt.xlim(['2013-09-01', '2013-12-31'])"
   ]
  },
  {
   "cell_type": "markdown",
   "id": "f63d8cfe",
   "metadata": {},
   "source": [
    "From plotting the start date by gross billings & units sold, I can see that indeed there are an upward trend from period of September to October, peak increment by December 1st, and downward trend from peak towards the end of December. "
   ]
  },
  {
   "cell_type": "code",
   "execution_count": 44,
   "id": "433c7d64",
   "metadata": {},
   "outputs": [],
   "source": [
    "# Reindex and group deals by day, according to the full date range for each segments\n",
    "dfsR = {}\n",
    "for key, d in dfs.items():\n",
    "    dfLoop = d.groupby('Start Date').sum()\n",
    "    idx = pd.date_range(min(d['Start Date']), max(d['Start Date']))\n",
    "    dfsR[key] = dfLoop.reindex(idx, fill_value=0.)"
   ]
  },
  {
   "cell_type": "code",
   "execution_count": 45,
   "id": "389ec440",
   "metadata": {},
   "outputs": [],
   "source": [
    "dfTmp = dfsC['Local'].copy()  #Shortcut for Local segment dataset"
   ]
  },
  {
   "cell_type": "code",
   "execution_count": 46,
   "id": "17486e33",
   "metadata": {},
   "outputs": [
    {
     "data": {
      "image/png": "[encoded data removed]",
      "text/plain": [
       "<Figure size 432x288 with 1 Axes>"
      ]
     },
     "metadata": {
      "needs_background": "light"
     },
     "output_type": "display_data"
    },
    {
     "data": {
      "image/png": "[encoded data removed]",
      "text/plain": [
       "<Figure size 432x288 with 1 Axes>"
      ]
     },
     "metadata": {
      "needs_background": "light"
     },
     "output_type": "display_data"
    },
    {
     "data": {
      "image/png": "[encoded data removed]",
      "text/plain": [
       "<Figure size 432x288 with 1 Axes>"
      ]
     },
     "metadata": {
      "needs_background": "light"
     },
     "output_type": "display_data"
    }
   ],
   "source": [
    "for d in dfsR.values():\n",
    "    d.plot(None, 'Gross Billings')"
   ]
  },
  {
   "cell_type": "code",
   "execution_count": 47,
   "id": "c744fc88",
   "metadata": {},
   "outputs": [
    {
     "data": {
      "image/png": "[encoded data removed]",
      "text/plain": [
       "<Figure size 432x288 with 1 Axes>"
      ]
     },
     "metadata": {
      "needs_background": "light"
     },
     "output_type": "display_data"
    }
   ],
   "source": [
    "plt.figure(figsize=[6, 4])\n",
    "plt.plot(dfsC['Local']['Gross Billings'] / dfsC['Local']['dealcount'], marker=\"\")\n",
    "dfTmp.plot(None, ['dealcount'], alpha=0., ax=plt.gca(), legend=[])\n",
    "plt.xlim(['2013-07-01', '2014-01-01'])\n",
    "plt.gca().get_xlim()\n",
    "plt.ylabel(\"Gross Billings per Deal\")\n",
    "ax = plt.gca()\n",
    "ax.spines[\"top\"].set_visible(False)\n",
    "ax.spines[\"right\"].set_visible(False)\n",
    "ax.set_ylim([0., ax.get_ylim()[1]])\n",
    "\n",
    "plt.savefig(\"./grossbilling_perdeal_vs_date.png\", dpi=300, bbox_inches=\"tight\")"
   ]
  },
  {
   "cell_type": "code",
   "execution_count": 48,
   "id": "25744592",
   "metadata": {},
   "outputs": [
    {
     "data": {
      "image/png": "[encoded data removed]",
      "text/plain": [
       "<Figure size 432x288 with 1 Axes>"
      ]
     },
     "metadata": {
      "needs_background": "light"
     },
     "output_type": "display_data"
    }
   ],
   "source": [
    "plt.figure(figsize=[6.,4])\n",
    "ax = plt.subplot(111)\n",
    "dfTmp.loc[:'2013-10-19'].plot(None, 'Gross Billings', ax=ax, marker=\"\", c=colors[0], legend=[])\n",
    "dfTmp.loc['2013-10-31':].plot(None, 'Gross Billings', ax=ax, marker=\"\", c=ax.lines[-1].get_color(), legend=[])\n",
    "plt.xlim(['2013-07-01', '2013-12-31'])\n",
    "ax.spines[\"top\"].set_visible(False)\n",
    "ax.spines[\"right\"].set_visible(False)\n",
    "\n",
    "ax.set_ylabel(\"Gross illings\")\n",
    "plt.savefig(\"./gross_billings_vs_date_simple.png\", dpi=300)"
   ]
  },
  {
   "cell_type": "code",
   "execution_count": 49,
   "id": "ddd04849",
   "metadata": {},
   "outputs": [
    {
     "data": {
      "image/png": "[encoded data removed]",
      "text/plain": [
       "<Figure size 432x288 with 1 Axes>"
      ]
     },
     "metadata": {
      "needs_background": "light"
     },
     "output_type": "display_data"
    }
   ],
   "source": [
    "plt.figure(figsize=[6,4])\n",
    "ax = plt.subplot(111)\n",
    "dfTmp.loc[:'2013-10-19'].plot(None, 'dealcount', ax=ax, label=\"\", legend=[])\n",
    "dfTmp.loc['2013-10-31':].plot(None, 'dealcount', ax=ax, label=\"\", legend=[], c=ax.lines[0].get_color())\n",
    "\n",
    "plt.xlim(['2012-10-01', '2014-01-01'])\n",
    "\n",
    "plt.ylabel('New Deals Started')\n",
    "ax = plt.gca()\n",
    "ax.spines[\"top\"].set_visible(False)\n",
    "ax.spines[\"right\"].set_visible(False)\n",
    "plt.tight_layout()\n",
    "plt.savefig(\"./newdeals_vs_date.png\", dpi=300)"
   ]
  },
  {
   "cell_type": "markdown",
   "id": "338b3003",
   "metadata": {},
   "source": [
    "# Data adjustments for the Local segment outage"
   ]
  },
  {
   "cell_type": "markdown",
   "id": "761e8094",
   "metadata": {},
   "source": [
    "### Method 1) Use the mean value in days around to estimate the missing gross billings data"
   ]
  },
  {
   "cell_type": "code",
   "execution_count": 50,
   "id": "ccd24563",
   "metadata": {},
   "outputs": [
    {
     "data": {
      "text/plain": [
       "(36619769.3252875, 3329069.9386625)"
      ]
     },
     "execution_count": 50,
     "metadata": {},
     "output_type": "execute_result"
    }
   ],
   "source": [
    "tmpG = pd.concat([dfsC['Local'].loc['2013-09-30':'2013-10-19', 'Gross Billings'], \n",
    "                 dfsC['Local'].loc['2013-10-31':'2013-11-19', 'Gross Billings']])\n",
    "\n",
    "missed_dailygross = tmpG.sum() / tmpG.shape[0]\n",
    "missed_dailygross * 11, missed_dailygross"
   ]
  },
  {
   "cell_type": "code",
   "execution_count": 51,
   "id": "ada1dddb",
   "metadata": {},
   "outputs": [
    {
     "data": {
      "image/png": "[encoded data removed]",
      "text/plain": [
       "<Figure size 432x288 with 1 Axes>"
      ]
     },
     "metadata": {
      "needs_background": "light"
     },
     "output_type": "display_data"
    }
   ],
   "source": [
    "fig = plt.figure(figsize=[6, 4])\n",
    "ax = fig.add_subplot(111)\n",
    "\n",
    "dfsC['Local'].loc[:'2013-10-19'].plot(None, 'Gross Billings', ax=ax, legend=[])\n",
    "plt.plot(dfsC['Local'].loc['2013-10-20':'2013-10-30'].index, missed_dailygross * np.ones(11), ls=\"-\")\n",
    "dfsC['Local'].loc['2013-10-31':].plot(None, 'Gross Billings', ax=ax, legend=[], c=ax.lines[0].get_color())\n",
    "plt.axvline(['2013-10-01'], c=\"k\", ls=\"--\")\n",
    "plt.axvline(['2013-11-19'], c=\"k\", ls=\"--\")\n",
    "plt.ylabel(\"Gross Billings\")\n",
    "ax.spines[\"top\"].set_visible(False)\n",
    "ax.spines[\"right\"].set_visible(False)\n",
    "plt.xlim(['2013-07-01', '2013-12-31'])\n",
    "plt.legend([ax.lines[1], ax.lines[0]], [\"predicted missing data\", \"data\"], loc=\"upper left\", bbox_to_anchor=[1., 1.])\n",
    "\n",
    "plt.savefig(\"./gross_billings_vs_date.png\", dpi=300, bbox_inches=\"tight\")"
   ]
  },
  {
   "cell_type": "code",
   "execution_count": 52,
   "id": "1e362180",
   "metadata": {},
   "outputs": [
    {
     "data": {
      "text/plain": [
       "569.425"
      ]
     },
     "execution_count": 52,
     "metadata": {},
     "output_type": "execute_result"
    }
   ],
   "source": [
    "# Do the same estimation for the missed number of deal started and units sold\n",
    "tmpM = pd.concat([dfsC['Local'].loc['2013-09-30':'2013-10-19', 'dealcount'], \n",
    "                 dfsC['Local'].loc['2013-10-31':'2013-11-19', 'dealcount']])\n",
    "\n",
    "missed_dailymean = tmpM.sum() / tmpM.shape[0]\n",
    "missed_dailymean"
   ]
  },
  {
   "cell_type": "code",
   "execution_count": 53,
   "id": "19cf5e01",
   "metadata": {},
   "outputs": [
    {
     "data": {
      "text/plain": [
       "1389043.7"
      ]
     },
     "execution_count": 53,
     "metadata": {},
     "output_type": "execute_result"
    }
   ],
   "source": [
    "tmpS = pd.concat([dfsC['Local'].loc['2013-09-30':'2013-10-19', 'Units Sold'], \n",
    "                 dfsC['Local'].loc['2013-10-31':'2013-11-19', 'Units Sold']])\n",
    "\n",
    "missed_dailysold = tmpS.sum() / tmpS.shape[0]\n",
    "missed_dailysold * 11"
   ]
  },
  {
   "cell_type": "code",
   "execution_count": 54,
   "id": "2e12f541",
   "metadata": {},
   "outputs": [
    {
     "data": {
      "text/html": [
       "<div>\n",
       "<style scoped>\n",
       "    .dataframe tbody tr th:only-of-type {\n",
       "        vertical-align: middle;\n",
       "    }\n",
       "\n",
       "    .dataframe tbody tr th {\n",
       "        vertical-align: top;\n",
       "    }\n",
       "\n",
       "    .dataframe thead th {\n",
       "        text-align: right;\n",
       "    }\n",
       "</style>\n",
       "<table border=\"1\" class=\"dataframe\">\n",
       "  <thead>\n",
       "    <tr style=\"text-align: right;\">\n",
       "      <th></th>\n",
       "      <th>Gross Billings</th>\n",
       "      <th>Units Sold</th>\n",
       "      <th>dealcount</th>\n",
       "    </tr>\n",
       "  </thead>\n",
       "  <tbody>\n",
       "    <tr>\n",
       "      <th>2013-10-20</th>\n",
       "      <td>3.329070e+06</td>\n",
       "      <td>126276.7</td>\n",
       "      <td>569.425</td>\n",
       "    </tr>\n",
       "    <tr>\n",
       "      <th>2013-10-21</th>\n",
       "      <td>3.329070e+06</td>\n",
       "      <td>126276.7</td>\n",
       "      <td>569.425</td>\n",
       "    </tr>\n",
       "    <tr>\n",
       "      <th>2013-10-22</th>\n",
       "      <td>3.329070e+06</td>\n",
       "      <td>126276.7</td>\n",
       "      <td>569.425</td>\n",
       "    </tr>\n",
       "    <tr>\n",
       "      <th>2013-10-23</th>\n",
       "      <td>3.329070e+06</td>\n",
       "      <td>126276.7</td>\n",
       "      <td>569.425</td>\n",
       "    </tr>\n",
       "    <tr>\n",
       "      <th>2013-10-24</th>\n",
       "      <td>3.329070e+06</td>\n",
       "      <td>126276.7</td>\n",
       "      <td>569.425</td>\n",
       "    </tr>\n",
       "    <tr>\n",
       "      <th>2013-10-25</th>\n",
       "      <td>3.329070e+06</td>\n",
       "      <td>126276.7</td>\n",
       "      <td>569.425</td>\n",
       "    </tr>\n",
       "    <tr>\n",
       "      <th>2013-10-26</th>\n",
       "      <td>3.329070e+06</td>\n",
       "      <td>126276.7</td>\n",
       "      <td>569.425</td>\n",
       "    </tr>\n",
       "    <tr>\n",
       "      <th>2013-10-27</th>\n",
       "      <td>3.329070e+06</td>\n",
       "      <td>126276.7</td>\n",
       "      <td>569.425</td>\n",
       "    </tr>\n",
       "    <tr>\n",
       "      <th>2013-10-28</th>\n",
       "      <td>3.329070e+06</td>\n",
       "      <td>126276.7</td>\n",
       "      <td>569.425</td>\n",
       "    </tr>\n",
       "    <tr>\n",
       "      <th>2013-10-29</th>\n",
       "      <td>3.329070e+06</td>\n",
       "      <td>126276.7</td>\n",
       "      <td>569.425</td>\n",
       "    </tr>\n",
       "    <tr>\n",
       "      <th>2013-10-30</th>\n",
       "      <td>3.329070e+06</td>\n",
       "      <td>126276.7</td>\n",
       "      <td>569.425</td>\n",
       "    </tr>\n",
       "  </tbody>\n",
       "</table>\n",
       "</div>"
      ],
      "text/plain": [
       "            Gross Billings  Units Sold  dealcount\n",
       "2013-10-20    3.329070e+06    126276.7    569.425\n",
       "2013-10-21    3.329070e+06    126276.7    569.425\n",
       "2013-10-22    3.329070e+06    126276.7    569.425\n",
       "2013-10-23    3.329070e+06    126276.7    569.425\n",
       "2013-10-24    3.329070e+06    126276.7    569.425\n",
       "2013-10-25    3.329070e+06    126276.7    569.425\n",
       "2013-10-26    3.329070e+06    126276.7    569.425\n",
       "2013-10-27    3.329070e+06    126276.7    569.425\n",
       "2013-10-28    3.329070e+06    126276.7    569.425\n",
       "2013-10-29    3.329070e+06    126276.7    569.425\n",
       "2013-10-30    3.329070e+06    126276.7    569.425"
      ]
     },
     "execution_count": 54,
     "metadata": {},
     "output_type": "execute_result"
    }
   ],
   "source": [
    "# Create new dataset for missing dates, to fill with artificial data\n",
    "\n",
    "values2fill_mean = pd.DataFrame(index=pd.date_range('2013-10-20', '2013-10-30'), columns=['Gross Billings', 'Units Sold', 'dealcount'])  \n",
    "values2fill_mean.loc[:, 'Gross Billings'] = missed_dailygross\n",
    "values2fill_mean.loc[:, 'Units Sold'] = missed_dailysold\n",
    "values2fill_mean.loc[:, 'dealcount'] = missed_dailymean\n",
    "values2fill_mean"
   ]
  },
  {
   "cell_type": "code",
   "execution_count": 55,
   "id": "2a15cbab",
   "metadata": {},
   "outputs": [
    {
     "data": {
      "text/plain": [
       "Gross Billings    3.661977e+07\n",
       "Units Sold        1.389044e+06\n",
       "dealcount         6.263675e+03\n",
       "dtype: float64"
      ]
     },
     "execution_count": 55,
     "metadata": {},
     "output_type": "execute_result"
    }
   ],
   "source": [
    "values2fill_mean.sum()"
   ]
  },
  {
   "cell_type": "markdown",
   "id": "d0c33f4d",
   "metadata": {},
   "source": [
    "Using the mean calculation, I estimated that there are missing gross bilings from Q4 2013 due to the outage, and the missing value is a total of $36,619,769."
   ]
  },
  {
   "cell_type": "markdown",
   "id": "14bed9fe",
   "metadata": {},
   "source": [
    "### Method 2) Keep into account day-by-day variability and up and down pattern"
   ]
  },
  {
   "cell_type": "code",
   "execution_count": 56,
   "id": "29a7ba34",
   "metadata": {},
   "outputs": [],
   "source": [
    "import statsmodels.api as sm\n",
    "from sklearn import linear_model\n",
    "import datetime as dt"
   ]
  },
  {
   "cell_type": "code",
   "execution_count": 57,
   "id": "33a2d3e2",
   "metadata": {},
   "outputs": [
    {
     "data": {
      "text/plain": [
       "(15978.0, 16028.0)"
      ]
     },
     "execution_count": 57,
     "metadata": {},
     "output_type": "execute_result"
    },
    {
     "data": {
      "image/png": "[encoded data removed]",
      "text/plain": [
       "<Figure size 1008x288 with 2 Axes>"
      ]
     },
     "metadata": {
      "needs_background": "light"
     },
     "output_type": "display_data"
    }
   ],
   "source": [
    "limits = ['2013-09-30', '2013-11-19'] # Use the same date limit as for mean calculation\n",
    "missingperiod = ['2013-10-20', '2013-10-30']  \n",
    "\n",
    "plt.figure(figsize=[14, 4])\n",
    "ax = plt.subplot(121)\n",
    "dfTmp.plot(None, 'Gross Billings', ax=ax)\n",
    "plt.axvline(limits[0], c=\"k\", ls=\"--\")\n",
    "plt.axvline(limits[1], c=\"k\", ls=\"--\")\n",
    "plt.xlim(['2013-01-01', '2014-01-01'])\n",
    "\n",
    "ax = plt.subplot(122)\n",
    "ax.axvline(pd.date_range('2013-09-30', '2013-09-30', freq=\"D\"), c=\"k\", ls=\"--\")\n",
    "dfTmp.plot(None, 'Gross Billings', ax=ax, marker=\".\")\n",
    "plt.xlim(limits[0], limits[1])"
   ]
  },
  {
   "cell_type": "markdown",
   "id": "7e64ef32",
   "metadata": {},
   "source": [
    "Is there a pattern based on days of the week, beyond the general trend?\n",
    "To test this, I'll try model comparison: on one side, I'll consider a model with only the general trend. On the other side, I'll add predictors based on the day of the week."
   ]
  },
  {
   "cell_type": "code",
   "execution_count": 58,
   "id": "662c0118",
   "metadata": {},
   "outputs": [],
   "source": [
    "dataY = pd.concat([dfTmp.loc[limits[0]:'2013-10-19', :], dfTmp.loc['2013-10-31':limits[1], :]])\n",
    "\n",
    "dayvar = dataY.index.map(dt.datetime.toordinal).to_numpy().astype(\"float\")\n",
    "dayvar_norm = (dayvar - dayvar[0]) / (dayvar[-1] - dayvar[0])  # normalize to be between 0 and 1\n",
    "\n",
    "dummy_weekday = pd.get_dummies([t.dayofweek for t in dataY.index])\n",
    "dataX = np.concatenate((dummy_weekday.to_numpy().astype(\"float\"), dayvar_norm[:, None]), axis=1)\n",
    "dataXtrend = dayvar_norm[:, None]"
   ]
  },
  {
   "cell_type": "code",
   "execution_count": 59,
   "id": "f7fce36b",
   "metadata": {},
   "outputs": [
    {
     "data": {
      "text/plain": [
       "<matplotlib.image.AxesImage at 0x1f2b90a42b0>"
      ]
     },
     "execution_count": 59,
     "metadata": {},
     "output_type": "execute_result"
    },
    {
     "data": {
      "image/png": "[encoded data removed]",
      "text/plain": [
       "<Figure size 1152x230.4 with 1 Axes>"
      ]
     },
     "metadata": {
      "needs_background": "light"
     },
     "output_type": "display_data"
    }
   ],
   "source": [
    "plt.matshow(dataX.T)"
   ]
  },
  {
   "cell_type": "code",
   "execution_count": 60,
   "id": "73bf6cc5",
   "metadata": {},
   "outputs": [
    {
     "data": {
      "text/plain": [
       "((40,), (40, 7), (40, 5), (40, 8))"
      ]
     },
     "execution_count": 60,
     "metadata": {},
     "output_type": "execute_result"
    }
   ],
   "source": [
    "dayvar.shape, dummy_weekday.shape, dataY.shape, dataX.shape"
   ]
  },
  {
   "cell_type": "code",
   "execution_count": 61,
   "id": "bc2fdc5e",
   "metadata": {},
   "outputs": [],
   "source": [
    "from sklearn.model_selection import cross_validate "
   ]
  },
  {
   "cell_type": "code",
   "execution_count": 62,
   "id": "7bb2ca86",
   "metadata": {},
   "outputs": [
    {
     "data": {
      "text/plain": [
       "LinearRegression()"
      ]
     },
     "execution_count": 62,
     "metadata": {},
     "output_type": "execute_result"
    }
   ],
   "source": [
    "mod = linear_model.LinearRegression()\n",
    "mod.fit(dataX, dataY['Gross Billings'].to_numpy())\n",
    "\n",
    "mod_trend = linear_model.LinearRegression()\n",
    "mod_trend.fit(dataXtrend, dataY['Gross Billings'].to_numpy())"
   ]
  },
  {
   "cell_type": "code",
   "execution_count": 63,
   "id": "48be2190",
   "metadata": {},
   "outputs": [
    {
     "data": {
      "text/plain": [
       "[<matplotlib.lines.Line2D at 0x1f2b9390be0>]"
      ]
     },
     "execution_count": 63,
     "metadata": {},
     "output_type": "execute_result"
    },
    {
     "data": {
      "image/png": "[encoded data removed]",
      "text/plain": [
       "<Figure size 432x288 with 1 Axes>"
      ]
     },
     "metadata": {
      "needs_background": "light"
     },
     "output_type": "display_data"
    }
   ],
   "source": [
    "plt.plot(dataY['Gross Billings'].to_numpy(), label=\"data\")\n",
    "plt.plot(mod.predict(dataX), label=\"multivariate reg.\")"
   ]
  },
  {
   "cell_type": "code",
   "execution_count": 64,
   "id": "30af1896",
   "metadata": {},
   "outputs": [],
   "source": [
    "# now use the model to predict\n",
    "testdays = pd.date_range(missingperiod[0], missingperiod[-1])\n",
    "dayvar_test = testdays.map(dt.datetime.toordinal).to_numpy().astype(\"float\")\n",
    "dayvar_test = (dayvar_test - dayvar[0]) / (dayvar[-1] - dayvar[0])  # normalize to be between 0 and 1\n",
    "dummy_weekday_test = pd.get_dummies([t.dayofweek for t in testdays])\n",
    "dataXtest = np.concatenate((dummy_weekday_test.to_numpy().astype(\"float\"), dayvar_test[:, None]), axis=1)"
   ]
  },
  {
   "cell_type": "code",
   "execution_count": 65,
   "id": "7e4dbf00",
   "metadata": {},
   "outputs": [
    {
     "data": {
      "text/plain": [
       "<matplotlib.image.AxesImage at 0x1f2b93f3910>"
      ]
     },
     "execution_count": 65,
     "metadata": {},
     "output_type": "execute_result"
    },
    {
     "data": {
      "image/png": "[encoded data removed]",
      "text/plain": [
       "<Figure size 288x396 with 1 Axes>"
      ]
     },
     "metadata": {
      "needs_background": "light"
     },
     "output_type": "display_data"
    }
   ],
   "source": [
    "plt.matshow(dataXtest)"
   ]
  },
  {
   "cell_type": "code",
   "execution_count": 66,
   "id": "b140b6a3",
   "metadata": {},
   "outputs": [],
   "source": [
    "Ypred = mod.predict(dataXtest)\n",
    "Ypred_trend = mod_trend.predict(dayvar_test[:, None])"
   ]
  },
  {
   "cell_type": "code",
   "execution_count": 67,
   "id": "cdb9a6f4",
   "metadata": {},
   "outputs": [
    {
     "data": {
      "image/png": "[encoded data removed]",
      "text/plain": [
       "<Figure size 432x288 with 1 Axes>"
      ]
     },
     "metadata": {
      "needs_background": "light"
     },
     "output_type": "display_data"
    }
   ],
   "source": [
    "plt.figure(figsize=[6,4])\n",
    "ax = plt.subplot(111)\n",
    "\n",
    "plt.plot(dfTmp.loc[missingperiod[0]:missingperiod[1]].index, Ypred, marker=\"\", c=colors[1], ls=\"--\", zorder=5)\n",
    "plt.plot(dfTmp.loc[limits[0]:'2013-10-19'].index, mod.predict(dataX[:20, :]), marker=\"\", c=colors[2], ls=\"--\", zorder=5)\n",
    "plt.plot(dfTmp.loc['2013-10-31':limits[1]].index, mod.predict(dataX[20:, :]), marker=\"\", c=colors[2], ls=\"--\", zorder=5)\n",
    "dfTmp.loc[:'2013-10-19'].plot(None, 'Gross Billings', ax=ax, marker=\"\", c=colors[0], legend=[])\n",
    "dfTmp.loc['2013-10-31':].plot(None, 'Gross Billings', ax=ax, marker=\"\", c=ax.lines[-1].get_color(), legend=[])\n",
    "plt.axvline(['2013-09-30'], c=\"k\", ls=\"--\")\n",
    "plt.axvline(['2013-11-19'], c=\"k\", ls=\"--\")\n",
    "plt.xlim(['2013-07-01', '2013-12-31'])\n",
    "ax.spines[\"top\"].set_visible(False)\n",
    "ax.spines[\"right\"].set_visible(False)\n",
    "plt.legend([ax.lines[0], ax.lines[1], ax.lines[3]], ['predicted missing data', 'fitted data', 'data'], loc=\"upper left\", bbox_to_anchor=[1., 1])\n",
    "ax.set_ylabel(\"Gross Billings\")\n",
    "\n",
    "plt.savefig(\"./gross_billings_vs_date_filled_multi.png\", dpi=300, bbox_inches=\"tight\")"
   ]
  },
  {
   "cell_type": "code",
   "execution_count": 68,
   "id": "afdac5e2",
   "metadata": {},
   "outputs": [
    {
     "data": {
      "text/plain": [
       "array([1744669.91619918, 3644884.92012466, 3864883.01245799,\n",
       "       3679166.70785014, 4286260.03908333, 3633878.38983333,\n",
       "       1987168.60766667, 1884775.78994986, 3784990.79387534,\n",
       "       4004988.88620867, 3819272.58160082])"
      ]
     },
     "execution_count": 68,
     "metadata": {},
     "output_type": "execute_result"
    }
   ],
   "source": [
    "Ypred"
   ]
  },
  {
   "cell_type": "code",
   "execution_count": 69,
   "id": "e62c6d31",
   "metadata": {},
   "outputs": [
    {
     "data": {
      "text/plain": [
       "(36334939.64485, 36619769.3252875, (11,), 36619769.3252875)"
      ]
     },
     "execution_count": 69,
     "metadata": {},
     "output_type": "execute_result"
    }
   ],
   "source": [
    "np.sum(Ypred), np.sum(Ypred_trend), Ypred.shape, missed_dailygross * 11"
   ]
  },
  {
   "cell_type": "code",
   "execution_count": 70,
   "id": "09640517",
   "metadata": {},
   "outputs": [
    {
     "data": {
      "text/html": [
       "<div>\n",
       "<style scoped>\n",
       "    .dataframe tbody tr th:only-of-type {\n",
       "        vertical-align: middle;\n",
       "    }\n",
       "\n",
       "    .dataframe tbody tr th {\n",
       "        vertical-align: top;\n",
       "    }\n",
       "\n",
       "    .dataframe thead th {\n",
       "        text-align: right;\n",
       "    }\n",
       "</style>\n",
       "<table border=\"1\" class=\"dataframe\">\n",
       "  <thead>\n",
       "    <tr style=\"text-align: right;\">\n",
       "      <th></th>\n",
       "      <th>Gross Billings</th>\n",
       "    </tr>\n",
       "  </thead>\n",
       "  <tbody>\n",
       "    <tr>\n",
       "      <th>2013-10-20</th>\n",
       "      <td>1.744670e+06</td>\n",
       "    </tr>\n",
       "    <tr>\n",
       "      <th>2013-10-21</th>\n",
       "      <td>3.644885e+06</td>\n",
       "    </tr>\n",
       "    <tr>\n",
       "      <th>2013-10-22</th>\n",
       "      <td>3.864883e+06</td>\n",
       "    </tr>\n",
       "    <tr>\n",
       "      <th>2013-10-23</th>\n",
       "      <td>3.679167e+06</td>\n",
       "    </tr>\n",
       "    <tr>\n",
       "      <th>2013-10-24</th>\n",
       "      <td>4.286260e+06</td>\n",
       "    </tr>\n",
       "    <tr>\n",
       "      <th>2013-10-25</th>\n",
       "      <td>3.633878e+06</td>\n",
       "    </tr>\n",
       "    <tr>\n",
       "      <th>2013-10-26</th>\n",
       "      <td>1.987169e+06</td>\n",
       "    </tr>\n",
       "    <tr>\n",
       "      <th>2013-10-27</th>\n",
       "      <td>1.884776e+06</td>\n",
       "    </tr>\n",
       "    <tr>\n",
       "      <th>2013-10-28</th>\n",
       "      <td>3.784991e+06</td>\n",
       "    </tr>\n",
       "    <tr>\n",
       "      <th>2013-10-29</th>\n",
       "      <td>4.004989e+06</td>\n",
       "    </tr>\n",
       "    <tr>\n",
       "      <th>2013-10-30</th>\n",
       "      <td>3.819273e+06</td>\n",
       "    </tr>\n",
       "  </tbody>\n",
       "</table>\n",
       "</div>"
      ],
      "text/plain": [
       "            Gross Billings\n",
       "2013-10-20    1.744670e+06\n",
       "2013-10-21    3.644885e+06\n",
       "2013-10-22    3.864883e+06\n",
       "2013-10-23    3.679167e+06\n",
       "2013-10-24    4.286260e+06\n",
       "2013-10-25    3.633878e+06\n",
       "2013-10-26    1.987169e+06\n",
       "2013-10-27    1.884776e+06\n",
       "2013-10-28    3.784991e+06\n",
       "2013-10-29    4.004989e+06\n",
       "2013-10-30    3.819273e+06"
      ]
     },
     "execution_count": 70,
     "metadata": {},
     "output_type": "execute_result"
    }
   ],
   "source": [
    "values2fill_multi = pd.DataFrame(Ypred, index= pd.date_range(missingperiod[0], missingperiod[1], freq=\"D\"), columns=['Gross Billings'])\n",
    "values2fill_multi"
   ]
  },
  {
   "cell_type": "code",
   "execution_count": 71,
   "id": "873b3897",
   "metadata": {},
   "outputs": [
    {
     "data": {
      "text/plain": [
       "Gross Billings    3.633494e+07\n",
       "dtype: float64"
      ]
     },
     "execution_count": 71,
     "metadata": {},
     "output_type": "execute_result"
    }
   ],
   "source": [
    "values2fill_multi.sum()"
   ]
  },
  {
   "cell_type": "markdown",
   "id": "fdbd3944",
   "metadata": {},
   "source": [
    "Using the multivariate regression method, I estimated that there are missing gross bilings from Q4 2013 due to the outage, and the missing value is a total of $36,334,940"
   ]
  },
  {
   "cell_type": "code",
   "execution_count": 72,
   "id": "9e22603b",
   "metadata": {},
   "outputs": [
    {
     "data": {
      "text/plain": [
       "0.7886177099345996"
      ]
     },
     "execution_count": 72,
     "metadata": {},
     "output_type": "execute_result"
    }
   ],
   "source": [
    "# compute the error on this estimate #\n",
    "Rsq = mod.score(dataX, dataY['Gross Billings'].to_numpy())\n",
    "Rsq"
   ]
  },
  {
   "cell_type": "markdown",
   "id": "d1f781a5",
   "metadata": {},
   "source": [
    "The model explains roughly 79% of the variance of the training data."
   ]
  },
  {
   "cell_type": "code",
   "execution_count": 73,
   "id": "137e2d1e",
   "metadata": {},
   "outputs": [
    {
     "data": {
      "text/plain": [
       "(483131.6353112457,\n",
       " Gross Billings    0.013297\n",
       " dtype: float64)"
      ]
     },
     "execution_count": 73,
     "metadata": {},
     "output_type": "execute_result"
    }
   ],
   "source": [
    "residual_std = np.sqrt((1 - Rsq) * np.var(dataY['Gross Billings'].to_numpy()))  # residual standard deviation\n",
    "residual_std, residual_std / values2fill_multi.sum()"
   ]
  },
  {
   "cell_type": "markdown",
   "id": "3d4a6f26",
   "metadata": {},
   "source": [
    "The unexplained variance results in an unexplained standard deviation of $483,131, roughly 1.3% of my estimate. I will have to add this number to the error estimated for the Local segment to obtain a more conservative estimate of the uncertainty."
   ]
  },
  {
   "cell_type": "markdown",
   "id": "be28d178",
   "metadata": {},
   "source": [
    "### Fill in the missing values using either the two methods proposed"
   ]
  },
  {
   "cell_type": "code",
   "execution_count": 74,
   "id": "0ccb7917",
   "metadata": {},
   "outputs": [],
   "source": [
    "# fill in missing values\n",
    "method = \"multi\"  # \"mean\" or \"multi\" ; Interchangeable to compare the data differences obtained through both methods.\n",
    "missingperiod = ['2013-10-20', '2013-10-30']\n",
    "if method == \"mean\":\n",
    "    dfsC['Local'].loc[missingperiod[0]:missingperiod[1], ['Gross Billings', 'Units Sold', 'dealcount']] = values2fill_mean.loc[:, ['Gross Billings', 'Units Sold', 'dealcount']]\n",
    "elif method == \"multi\":\n",
    "    dfsC['Local'].loc[missingperiod[0]:missingperiod[1], ['Gross Billings']] = values2fill_multi.loc[:, ['Gross Billings']]\n",
    "dfsC['Local'].loc[missingperiod[0]:missingperiod[1], 'added'] = True"
   ]
  },
  {
   "cell_type": "code",
   "execution_count": 75,
   "id": "4f8e57c1",
   "metadata": {},
   "outputs": [
    {
     "data": {
      "text/html": [
       "<div>\n",
       "<style scoped>\n",
       "    .dataframe tbody tr th:only-of-type {\n",
       "        vertical-align: middle;\n",
       "    }\n",
       "\n",
       "    .dataframe tbody tr th {\n",
       "        vertical-align: top;\n",
       "    }\n",
       "\n",
       "    .dataframe thead th {\n",
       "        text-align: right;\n",
       "    }\n",
       "</style>\n",
       "<table border=\"1\" class=\"dataframe\">\n",
       "  <thead>\n",
       "    <tr style=\"text-align: right;\">\n",
       "      <th></th>\n",
       "      <th>Units Sold</th>\n",
       "      <th>Gross Billings</th>\n",
       "      <th>anomaly</th>\n",
       "      <th>dealcount</th>\n",
       "      <th>added</th>\n",
       "    </tr>\n",
       "  </thead>\n",
       "  <tbody>\n",
       "    <tr>\n",
       "      <th>2013-10-20</th>\n",
       "      <td>0.0</td>\n",
       "      <td>1.744670e+06</td>\n",
       "      <td>0.0</td>\n",
       "      <td>0.0</td>\n",
       "      <td>True</td>\n",
       "    </tr>\n",
       "    <tr>\n",
       "      <th>2013-10-21</th>\n",
       "      <td>0.0</td>\n",
       "      <td>3.644885e+06</td>\n",
       "      <td>0.0</td>\n",
       "      <td>0.0</td>\n",
       "      <td>True</td>\n",
       "    </tr>\n",
       "    <tr>\n",
       "      <th>2013-10-22</th>\n",
       "      <td>0.0</td>\n",
       "      <td>3.864883e+06</td>\n",
       "      <td>0.0</td>\n",
       "      <td>0.0</td>\n",
       "      <td>True</td>\n",
       "    </tr>\n",
       "    <tr>\n",
       "      <th>2013-10-23</th>\n",
       "      <td>0.0</td>\n",
       "      <td>3.679167e+06</td>\n",
       "      <td>0.0</td>\n",
       "      <td>0.0</td>\n",
       "      <td>True</td>\n",
       "    </tr>\n",
       "    <tr>\n",
       "      <th>2013-10-24</th>\n",
       "      <td>0.0</td>\n",
       "      <td>4.286260e+06</td>\n",
       "      <td>0.0</td>\n",
       "      <td>0.0</td>\n",
       "      <td>True</td>\n",
       "    </tr>\n",
       "    <tr>\n",
       "      <th>2013-10-25</th>\n",
       "      <td>0.0</td>\n",
       "      <td>3.633878e+06</td>\n",
       "      <td>0.0</td>\n",
       "      <td>0.0</td>\n",
       "      <td>True</td>\n",
       "    </tr>\n",
       "    <tr>\n",
       "      <th>2013-10-26</th>\n",
       "      <td>0.0</td>\n",
       "      <td>1.987169e+06</td>\n",
       "      <td>0.0</td>\n",
       "      <td>0.0</td>\n",
       "      <td>True</td>\n",
       "    </tr>\n",
       "    <tr>\n",
       "      <th>2013-10-27</th>\n",
       "      <td>0.0</td>\n",
       "      <td>1.884776e+06</td>\n",
       "      <td>0.0</td>\n",
       "      <td>0.0</td>\n",
       "      <td>True</td>\n",
       "    </tr>\n",
       "    <tr>\n",
       "      <th>2013-10-28</th>\n",
       "      <td>0.0</td>\n",
       "      <td>3.784991e+06</td>\n",
       "      <td>0.0</td>\n",
       "      <td>0.0</td>\n",
       "      <td>True</td>\n",
       "    </tr>\n",
       "    <tr>\n",
       "      <th>2013-10-29</th>\n",
       "      <td>0.0</td>\n",
       "      <td>4.004989e+06</td>\n",
       "      <td>0.0</td>\n",
       "      <td>0.0</td>\n",
       "      <td>True</td>\n",
       "    </tr>\n",
       "    <tr>\n",
       "      <th>2013-10-30</th>\n",
       "      <td>0.0</td>\n",
       "      <td>3.819273e+06</td>\n",
       "      <td>0.0</td>\n",
       "      <td>0.0</td>\n",
       "      <td>True</td>\n",
       "    </tr>\n",
       "  </tbody>\n",
       "</table>\n",
       "</div>"
      ],
      "text/plain": [
       "            Units Sold  Gross Billings  anomaly  dealcount  added\n",
       "2013-10-20         0.0    1.744670e+06      0.0        0.0   True\n",
       "2013-10-21         0.0    3.644885e+06      0.0        0.0   True\n",
       "2013-10-22         0.0    3.864883e+06      0.0        0.0   True\n",
       "2013-10-23         0.0    3.679167e+06      0.0        0.0   True\n",
       "2013-10-24         0.0    4.286260e+06      0.0        0.0   True\n",
       "2013-10-25         0.0    3.633878e+06      0.0        0.0   True\n",
       "2013-10-26         0.0    1.987169e+06      0.0        0.0   True\n",
       "2013-10-27         0.0    1.884776e+06      0.0        0.0   True\n",
       "2013-10-28         0.0    3.784991e+06      0.0        0.0   True\n",
       "2013-10-29         0.0    4.004989e+06      0.0        0.0   True\n",
       "2013-10-30         0.0    3.819273e+06      0.0        0.0   True"
      ]
     },
     "execution_count": 75,
     "metadata": {},
     "output_type": "execute_result"
    }
   ],
   "source": [
    "dfsC['Local'][dfsC['Local']['added'] == True]"
   ]
  },
  {
   "cell_type": "markdown",
   "id": "3e8dba81",
   "metadata": {},
   "source": [
    "# Calculate Groupon North America Gross Billing for Q4 2013 "
   ]
  },
  {
   "cell_type": "code",
   "execution_count": 76,
   "id": "419cbbf0",
   "metadata": {},
   "outputs": [
    {
     "data": {
      "text/plain": [
       "<matplotlib.legend.Legend at 0x1f2b9573bb0>"
      ]
     },
     "execution_count": 76,
     "metadata": {},
     "output_type": "execute_result"
    },
    {
     "data": {
      "image/png": "[encoded data removed]",
      "text/plain": [
       "<Figure size 432x288 with 1 Axes>"
      ]
     },
     "metadata": {
      "needs_background": "light"
     },
     "output_type": "display_data"
    }
   ],
   "source": [
    "# Plot the prediction against the consensus data from banks.\n",
    "\n",
    "ticks= np.arange(1, 5*4, 5)\n",
    "\n",
    "for i, d in enumerate(dfsC.values()):\n",
    "    plt.bar(ticks[i], d.sum()['Gross Billings'], color='blue') \n",
    "plt.bar(ticks[-1], sum([d.sum()['Gross Billings'] for d in dfsC.values()]), color='blue', label='YipitData')\n",
    "plt.bar(ticks + 1, dfB[dfB.bank=='jpm']['Gross Billings'], label='JP Morgan', color='red')\n",
    "plt.bar(ticks + 2, dfB[dfB.bank=='ms']['Gross Billings'], label='Morgan Stanley', color='green')\n",
    "plt.bar(ticks[-1] + 3, dfB[dfB.bank=='db']['Gross Billings'], label='Deutsche Bank', color='purple')\n",
    "\n",
    "ax = plt.gca()\n",
    "ax.xaxis.set_ticks(ticks + 1)\n",
    "ax.xaxis.set_ticklabels(['Local', 'Goods', 'Travel', 'Total'])\n",
    "ax.set_ylabel('Gross Billings')\n",
    "\n",
    "plt.legend()"
   ]
  },
  {
   "cell_type": "markdown",
   "id": "98a44d68",
   "metadata": {},
   "source": [
    "### Output the sum of gross billings per segment for the Q4 2013"
   ]
  },
  {
   "cell_type": "code",
   "execution_count": 77,
   "id": "7f03a4ee",
   "metadata": {},
   "outputs": [
    {
     "data": {
      "text/plain": [
       "445557597.62685007"
      ]
     },
     "execution_count": 77,
     "metadata": {},
     "output_type": "execute_result"
    }
   ],
   "source": [
    "dfsC[\"Local\"].sum()['Gross Billings']"
   ]
  },
  {
   "cell_type": "code",
   "execution_count": 78,
   "id": "f240c149",
   "metadata": {},
   "outputs": [
    {
     "data": {
      "text/plain": [
       "282245671.04132"
      ]
     },
     "execution_count": 78,
     "metadata": {},
     "output_type": "execute_result"
    }
   ],
   "source": [
    "dfsC[\"Goods\"].sum()['Gross Billings']"
   ]
  },
  {
   "cell_type": "code",
   "execution_count": 79,
   "id": "3642587f",
   "metadata": {},
   "outputs": [
    {
     "data": {
      "text/plain": [
       "70552062.1245"
      ]
     },
     "execution_count": 79,
     "metadata": {},
     "output_type": "execute_result"
    }
   ],
   "source": [
    "dfsC[\"Travel\"].sum()['Gross Billings']"
   ]
  },
  {
   "cell_type": "code",
   "execution_count": 80,
   "id": "b45d9bb2",
   "metadata": {},
   "outputs": [
    {
     "data": {
      "text/plain": [
       "798355330.7926701"
      ]
     },
     "execution_count": 80,
     "metadata": {},
     "output_type": "execute_result"
    }
   ],
   "source": [
    "dfsC[\"Local\"].sum()['Gross Billings'] + dfsC[\"Goods\"].sum()['Gross Billings'] + dfsC[\"Travel\"].sum()['Gross Billings']"
   ]
  }
 ],
 "metadata": {
  "kernelspec": {
   "display_name": "Python 3 (ipykernel)",
   "language": "python",
   "name": "python3"
  },
  "language_info": {
   "codemirror_mode": {
    "name": "ipython",
    "version": 3
   },
   "file_extension": ".py",
   "mimetype": "text/x-python",
   "name": "python",
   "nbconvert_exporter": "python",
   "pygments_lexer": "ipython3",
   "version": "3.8.11"
  }
 },
 "nbformat": 4,
 "nbformat_minor": 5
}
